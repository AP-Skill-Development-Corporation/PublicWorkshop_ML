{
 "cells": [
  {
   "cell_type": "markdown",
   "metadata": {},
   "source": [
    "![](logo.png)\n"
   ]
  },
  {
   "cell_type": "markdown",
   "metadata": {},
   "source": [
    "## Why you here?\n",
    "- Both AI and ML are very useful to move our interest towards latest technologies \n",
    "- to start building up a career in data science\n",
    "- To enhance in the area of ML\n",
    "- As Machine Learning is the core subarea of artificial intelligence'\n",
    "- as in this fast growing world, we need to make our self learn growing technology, so i choosed ml\n",
    "- Ml is a method of data analysis that automates analytical model building.\n"
   ]
  },
  {
   "cell_type": "markdown",
   "metadata": {},
   "source": [
    "## Data\n",
    "\n",
    "- group of information\n",
    "- information\n",
    "- collection of measurments\n",
    "- The information that we store and analyze or the information\n",
    "\n",
    "\n",
    "## Information\n",
    "- data is unorganized while information is organized set of requirements\n",
    "\n",
    "\n",
    "\n",
    "Example: \n",
    "- Data - Unorganized / Unstructured Format\n",
    "- Info - Organized / Structured Format\n",
    "\n",
    "\n",
    "std1 : name, dob,Location\n",
    "std2 : name, eduction, hobby\n",
    "std3 : fame, hoby, frvt color\n",
    "\n",
    "\n",
    "Fb Login Page - it follows some rules"
   ]
  },
  {
   "cell_type": "markdown",
   "metadata": {},
   "source": [
    "## Need of Analysis\n",
    "\n",
    "- to get a clear idea about the data we collected\n",
    "- cal statastical Operations\n",
    "- Filtering\n",
    "- Removing Unwanted\n",
    "- Extracting Wanted data\n"
   ]
  },
  {
   "cell_type": "markdown",
   "metadata": {},
   "source": [
    "## How to Gether the data?\n",
    "- surveys  \n"
   ]
  },
  {
   "cell_type": "code",
   "execution_count": null,
   "metadata": {},
   "outputs": [],
   "source": [
    "#sample.py"
   ]
  },
  {
   "cell_type": "markdown",
   "metadata": {},
   "source": [
    "esc+b - creating new cell at below\n",
    "esc+a - at above\n",
    "esc+m  - Markdown\n",
    "esc+y  - code\n",
    "esc+r  - rawNBconvert\n",
    "shift+enter - run your cell\n",
    "alt+enter \n",
    "cntrl+enter"
   ]
  },
  {
   "cell_type": "markdown",
   "metadata": {},
   "source": []
  },
  {
   "cell_type": "raw",
   "metadata": {},
   "source": [
    "raw NB Convert\n",
    "\n",
    "dshfj\n",
    "kjhdfj\n",
    "kdhfgkj%hfjk97358\n",
    "jfjhgjk#fgjkh\n",
    "# title"
   ]
  },
  {
   "attachments": {
    "download.png": {
     "image/png": "[encoded data removed]"
    }
   },
   "cell_type": "markdown",
   "metadata": {},
   "source": [
    "# Title\n",
    "## heading2\n",
    "### Heading3\n",
    "#### Heading4\n",
    "\n",
    "\n",
    "### Unorder List\n",
    "- Points\n",
    "- Point2\n",
    "- Point3 \n",
    "+ Point4\n",
    "* Points\n",
    "    - Points\n",
    "    - Point2\n",
    "    - Point3 \n",
    "    + Point4\n",
    "    * Points\n",
    "        - Points\n",
    "        - Point2\n",
    "        - Point3 \n",
    "        + Point4\n",
    "        * Points\n",
    "\n",
    "\n",
    "### Order List\n",
    "\n",
    "1. data\n",
    "2. data\n",
    "4. data\n",
    "5. data\n",
    "\n",
    "\n",
    "I am **Bold** \n",
    "\n",
    "i am *Italic*\n",
    "\n",
    "i am ***Bold+Italic***\n",
    "\n",
    "## Creating Tables\n",
    "\n",
    "S.No | Name | Gender\n",
    "-----| ---- | ------\n",
    "1 | Lavanya | Female\n",
    "2 | Pravalika | Female\n",
    "3 | Sruthi | Female\n",
    "4 | Sirish | Male\n",
    "\n",
    "\n",
    "## Inserting Image\n",
    "\n",
    "#### From Web \n",
    "![](data:image/webp;base64,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)\n",
    "\n",
    "### Local files\n",
    "\n",
    "![](download.png)\n",
    "\n",
    "\n",
    "![download.png](attachment:download.png)\n",
    "\n",
    "\n"
   ]
  },
  {
   "cell_type": "markdown",
   "metadata": {},
   "source": [
    "## Inserting Hyper Links\n",
    "\n",
    "[Python_Official Web Site](https://www.python.org/)\n",
    "\n",
    "@apssdcupdates"
   ]
  },
  {
   "cell_type": "markdown",
   "metadata": {},
   "source": [
    "- Points\n",
    "    - points"
   ]
  },
  {
   "cell_type": "code",
   "execution_count": null,
   "metadata": {},
   "outputs": [],
   "source": []
  }
 ],
 "metadata": {
  "kernelspec": {
   "display_name": "Python 3",
   "language": "python",
   "name": "python3"
  },
  "language_info": {
   "codemirror_mode": {
    "name": "ipython",
    "version": 3
   },
   "file_extension": ".py",
   "mimetype": "text/x-python",
   "name": "python",
   "nbconvert_exporter": "python",
   "pygments_lexer": "ipython3",
   "version": "3.8.3"
  }
 },
 "nbformat": 4,
 "nbformat_minor": 4
}
