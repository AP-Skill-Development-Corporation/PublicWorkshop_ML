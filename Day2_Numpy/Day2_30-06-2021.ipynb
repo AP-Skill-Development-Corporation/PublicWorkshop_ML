{
 "cells": [
  {
   "cell_type": "markdown",
   "metadata": {},
   "source": [
    "![](logo.png)\n",
    "## Day Objectives\n",
    "\n",
    "# Introduction to NumPy\n",
    "\n",
    "The learning objectives of this section are:\n",
    "\n",
    "* Create NumPy arrays\n",
    "    * Convert lists and tuples to NumPy arrays \n",
    "    * Create (initialise) arrays\n",
    "* Inspect the structure and content of arrays\n",
    "* Subset, slice, index and iterate through arrays\n",
    "* Compare computation times in NumPy and standard Python lists\n",
    "\n",
    "\n",
    "### NumPy Basics\n",
    "\n",
    "NumPy is a library written for scientific computing and data analysis. It stands for numerical python.\n",
    "\n",
    "The most basic object in NumPy is the ```ndarray```, or simply an ```array```, which is an **n-dimensional, homogenous** array. By homogenous, we mean that all the elements in a NumPy array have to be of the **same data type**, which is commonly numeric (float or integer). \n",
    "\n",
    "\n",
    "- Numerical Python, popularly known as Numpy has been designed to carry out mathematical computations at a faster and easier rate.\n",
    "- Further this library enriches the programming language Python by providing powerful  data structures like multi dimensional arrays beyond matrices and linear arrays.\n",
    "- Besides that, Numpy provides a large library of high level mathematical functions to operate on these structures.\n",
    "\n",
    "\n",
    "### Why Numpy when we have “Lists” ?\n",
    "**Python has inbuilt data structure “List” which is also technically an array which allows different data types.**\n",
    "\n",
    "The answer to this question  comes in following three aspects\n",
    "+ Size – Numpy data structures take less space\n",
    "+ Performance – They are inherently faster than lists.\n",
    "+ Functionality – Scipy and Numpy have optimized functions.\n",
    "\n",
    "\n",
    "Let's see some examples of arrays."
   ]
  },
  {
   "cell_type": "markdown",
   "metadata": {},
   "source": [
    "In NumPy, dimensions are called **axes**. In the 2-d array above, there are two axes, having two and three elements respectively. \n",
    "\n",
    "In NumPy terminology, for 2-D arrays:\n",
    "* ```axis = 0``` refers to the rows\n",
    "* ```axis = 1``` refers to the columns\n",
    "\n",
    "<img src=\"numpy_axes.jpg\" style=\"width: 600px; height: 400px\">"
   ]
  },
  {
   "cell_type": "markdown",
   "metadata": {},
   "source": [
    "### Advantages of NumPy \n",
    "1. Numpy is **much faster** than the standard python ways to do computations.\n",
    "2. NumPy arrays are more compact than lists, i.e. they take much lesser storage space than lists"
   ]
  },
  {
   "cell_type": "code",
   "execution_count": 3,
   "metadata": {},
   "outputs": [
    {
     "data": {
      "text/plain": [
       "[34, 45, 67]"
      ]
     },
     "execution_count": 3,
     "metadata": {},
     "output_type": "execute_result"
    }
   ],
   "source": [
    "li = [34,45,67]\n",
    "li"
   ]
  },
  {
   "cell_type": "code",
   "execution_count": 5,
   "metadata": {},
   "outputs": [],
   "source": [
    "import numpy as np"
   ]
  },
  {
   "cell_type": "code",
   "execution_count": 7,
   "metadata": {},
   "outputs": [
    {
     "name": "stdout",
     "output_type": "stream",
     "text": [
      "[34 45 67]\n"
     ]
    }
   ],
   "source": [
    "# 1-D array using a list\n",
    "n1 = np.array(li)\n",
    "print(n1)"
   ]
  },
  {
   "cell_type": "code",
   "execution_count": 8,
   "metadata": {},
   "outputs": [
    {
     "data": {
      "text/plain": [
       "list"
      ]
     },
     "execution_count": 8,
     "metadata": {},
     "output_type": "execute_result"
    }
   ],
   "source": [
    "type(li)"
   ]
  },
  {
   "cell_type": "code",
   "execution_count": 10,
   "metadata": {},
   "outputs": [
    {
     "name": "stdout",
     "output_type": "stream",
     "text": [
      "<class 'numpy.ndarray'>\n"
     ]
    }
   ],
   "source": [
    "print(type(n1))"
   ]
  },
  {
   "cell_type": "code",
   "execution_count": 12,
   "metadata": {},
   "outputs": [
    {
     "data": {
      "text/plain": [
       "array(['1', '2', '3', '4', '5.6', '6.7', 'string'], dtype='<U32')"
      ]
     },
     "execution_count": 12,
     "metadata": {},
     "output_type": "execute_result"
    }
   ],
   "source": [
    "t = (1,2,3,4,5.6,6.7, \"string\")\n",
    "n2 = np.array(t)\n",
    "n2"
   ]
  },
  {
   "cell_type": "code",
   "execution_count": 13,
   "metadata": {},
   "outputs": [
    {
     "data": {
      "text/plain": [
       "array([[1, 2, 3, 4],\n",
       "       [5, 6, 7, 8]])"
      ]
     },
     "execution_count": 13,
     "metadata": {},
     "output_type": "execute_result"
    }
   ],
   "source": [
    "# Creating 2-D Array\n",
    "n_2d = np.array([[1,2,3,4],[5,6,7,8]])\n",
    "n_2d"
   ]
  },
  {
   "cell_type": "code",
   "execution_count": 14,
   "metadata": {},
   "outputs": [
    {
     "ename": "SyntaxError",
     "evalue": "invalid syntax (<ipython-input-14-e4623760311e>, line 1)",
     "output_type": "error",
     "traceback": [
      "\u001b[1;36m  File \u001b[1;32m\"<ipython-input-14-e4623760311e>\"\u001b[1;36m, line \u001b[1;32m1\u001b[0m\n\u001b[1;33m    For i in range of li:\u001b[0m\n\u001b[1;37m        ^\u001b[0m\n\u001b[1;31mSyntaxError\u001b[0m\u001b[1;31m:\u001b[0m invalid syntax\n"
     ]
    }
   ],
   "source": [
    "For i in range of li:\n",
    "M= i*i"
   ]
  },
  {
   "cell_type": "code",
   "execution_count": 15,
   "metadata": {},
   "outputs": [
    {
     "data": {
      "text/plain": [
       "[1, 9, 25, 49, 81, 121, 169]"
      ]
     },
     "execution_count": 15,
     "metadata": {},
     "output_type": "execute_result"
    }
   ],
   "source": [
    "l1 = [1,3,5,7,9,11,13]\n",
    "# Task:  get the squares of the elements in the list\n",
    "l = []\n",
    "for i in l1:\n",
    "    l.append(i**2)\n",
    "    \n",
    "l"
   ]
  },
  {
   "cell_type": "code",
   "execution_count": 18,
   "metadata": {
    "collapsed": true
   },
   "outputs": [
    {
     "name": "stdout",
     "output_type": "stream",
     "text": [
      "1,2,3,4,5\n"
     ]
    },
    {
     "ename": "TypeError",
     "evalue": "list expected at most 1 argument, got 2",
     "output_type": "error",
     "traceback": [
      "\u001b[1;31m---------------------------------------------------------------------------\u001b[0m",
      "\u001b[1;31mTypeError\u001b[0m                                 Traceback (most recent call last)",
      "\u001b[1;32m<ipython-input-18-f645009cb3c5>\u001b[0m in \u001b[0;36m<module>\u001b[1;34m\u001b[0m\n\u001b[1;32m----> 1\u001b[1;33m \u001b[0ml\u001b[0m\u001b[1;33m=\u001b[0m\u001b[0mmap\u001b[0m\u001b[1;33m(\u001b[0m\u001b[0mlist\u001b[0m\u001b[1;33m(\u001b[0m\u001b[0mint\u001b[0m\u001b[1;33m,\u001b[0m\u001b[0minput\u001b[0m\u001b[1;33m(\u001b[0m\u001b[1;33m)\u001b[0m\u001b[1;33m.\u001b[0m\u001b[0msplit\u001b[0m\u001b[1;33m(\u001b[0m\u001b[1;33m)\u001b[0m\u001b[1;33m)\u001b[0m\u001b[1;33m)\u001b[0m\u001b[1;33m\u001b[0m\u001b[1;33m\u001b[0m\u001b[0m\n\u001b[0m\u001b[0;32m      2\u001b[0m \u001b[0mm\u001b[0m\u001b[1;33m=\u001b[0m\u001b[1;33m[\u001b[0m\u001b[1;33m]\u001b[0m\u001b[1;33m\u001b[0m\u001b[1;33m\u001b[0m\u001b[0m\n\u001b[0;32m      3\u001b[0m \u001b[1;32mfor\u001b[0m \u001b[0mi\u001b[0m \u001b[1;32min\u001b[0m \u001b[0ml\u001b[0m\u001b[1;33m:\u001b[0m\u001b[1;33m\u001b[0m\u001b[1;33m\u001b[0m\u001b[0m\n\u001b[0;32m      4\u001b[0m     \u001b[0ma\u001b[0m\u001b[1;33m=\u001b[0m\u001b[0mi\u001b[0m\u001b[1;33m*\u001b[0m\u001b[0mi\u001b[0m\u001b[1;33m\u001b[0m\u001b[1;33m\u001b[0m\u001b[0m\n\u001b[0;32m      5\u001b[0m     \u001b[0ml\u001b[0m\u001b[1;33m.\u001b[0m\u001b[0mappend\u001b[0m\u001b[1;33m(\u001b[0m\u001b[0ma\u001b[0m\u001b[1;33m)\u001b[0m\u001b[1;33m\u001b[0m\u001b[1;33m\u001b[0m\u001b[0m\n",
      "\u001b[1;31mTypeError\u001b[0m: list expected at most 1 argument, got 2"
     ]
    }
   ],
   "source": [
    "l=map(list(int,input().split()))\n",
    "m=[]\n",
    "for i in l:\n",
    "    a=i*i\n",
    "    l.append(a)\n"
   ]
  },
  {
   "cell_type": "code",
   "execution_count": 19,
   "metadata": {},
   "outputs": [
    {
     "data": {
      "text/plain": [
       "[1, 9, 25, 49, 81, 121, 169]"
      ]
     },
     "execution_count": 19,
     "metadata": {},
     "output_type": "execute_result"
    }
   ],
   "source": [
    "[i**2 for i in l1]"
   ]
  },
  {
   "cell_type": "code",
   "execution_count": 21,
   "metadata": {},
   "outputs": [
    {
     "data": {
      "text/plain": [
       "array([  1,   9,  25,  49,  81, 121, 169], dtype=int32)"
      ]
     },
     "execution_count": 21,
     "metadata": {},
     "output_type": "execute_result"
    }
   ],
   "source": [
    "np.array(l1)**2"
   ]
  },
  {
   "cell_type": "code",
   "execution_count": 22,
   "metadata": {},
   "outputs": [
    {
     "ename": "TypeError",
     "evalue": "unsupported operand type(s) for ** or pow(): 'list' and 'int'",
     "output_type": "error",
     "traceback": [
      "\u001b[1;31m---------------------------------------------------------------------------\u001b[0m",
      "\u001b[1;31mTypeError\u001b[0m                                 Traceback (most recent call last)",
      "\u001b[1;32m<ipython-input-22-c2bce5e64417>\u001b[0m in \u001b[0;36m<module>\u001b[1;34m\u001b[0m\n\u001b[1;32m----> 1\u001b[1;33m \u001b[0ml1\u001b[0m\u001b[1;33m**\u001b[0m\u001b[1;36m2\u001b[0m\u001b[1;33m\u001b[0m\u001b[1;33m\u001b[0m\u001b[0m\n\u001b[0m",
      "\u001b[1;31mTypeError\u001b[0m: unsupported operand type(s) for ** or pow(): 'list' and 'int'"
     ]
    }
   ],
   "source": [
    "l1**2"
   ]
  },
  {
   "cell_type": "code",
   "execution_count": 24,
   "metadata": {},
   "outputs": [
    {
     "data": {
      "text/plain": [
       "622"
      ]
     },
     "execution_count": 24,
     "metadata": {},
     "output_type": "execute_result"
    }
   ],
   "source": [
    "len(dir(np))  # 622 methods inside numpy "
   ]
  },
  {
   "cell_type": "code",
   "execution_count": 44,
   "metadata": {},
   "outputs": [
    {
     "name": "stdout",
     "output_type": "stream",
     "text": [
      "1\n"
     ]
    },
    {
     "data": {
      "text/plain": [
       "(4,)"
      ]
     },
     "execution_count": 44,
     "metadata": {},
     "output_type": "execute_result"
    }
   ],
   "source": [
    "n1 = np.array([1,2,3,4,])\n",
    "print(n1.ndim)\n",
    "n1.shape"
   ]
  },
  {
   "cell_type": "code",
   "execution_count": 43,
   "metadata": {},
   "outputs": [
    {
     "name": "stdout",
     "output_type": "stream",
     "text": [
      "(2, 3)\n",
      "2\n"
     ]
    },
    {
     "data": {
      "text/plain": [
       "array([[1, 2, 3],\n",
       "       [4, 5, 6]])"
      ]
     },
     "execution_count": 43,
     "metadata": {},
     "output_type": "execute_result"
    }
   ],
   "source": [
    "n2 = np.array([[1,2,3],[4,5,6]])\n",
    "print(n2.shape)\n",
    "print(n2.ndim)\n",
    "n2"
   ]
  },
  {
   "cell_type": "code",
   "execution_count": 42,
   "metadata": {},
   "outputs": [
    {
     "name": "stdout",
     "output_type": "stream",
     "text": [
      "(1, 2, 3)\n",
      "3\n"
     ]
    },
    {
     "data": {
      "text/plain": [
       "array([[[1, 2, 3],\n",
       "        [4, 5, 6]]])"
      ]
     },
     "execution_count": 42,
     "metadata": {},
     "output_type": "execute_result"
    }
   ],
   "source": [
    "n3 = np.array([[[1,2,3],[4,5,6]]])\n",
    "print(n3.shape)\n",
    "print(n3.ndim)\n",
    "n3"
   ]
  },
  {
   "cell_type": "code",
   "execution_count": 36,
   "metadata": {},
   "outputs": [
    {
     "data": {
      "text/plain": [
       "dtype('int32')"
      ]
     },
     "execution_count": 36,
     "metadata": {},
     "output_type": "execute_result"
    }
   ],
   "source": [
    "n1.dtype"
   ]
  },
  {
   "cell_type": "code",
   "execution_count": 37,
   "metadata": {},
   "outputs": [
    {
     "data": {
      "text/plain": [
       "dtype('int32')"
      ]
     },
     "execution_count": 37,
     "metadata": {},
     "output_type": "execute_result"
    }
   ],
   "source": [
    "n2.dtype"
   ]
  },
  {
   "cell_type": "code",
   "execution_count": 38,
   "metadata": {},
   "outputs": [
    {
     "data": {
      "text/plain": [
       "2"
      ]
     },
     "execution_count": 38,
     "metadata": {},
     "output_type": "execute_result"
    }
   ],
   "source": [
    "n2.ndim"
   ]
  },
  {
   "cell_type": "code",
   "execution_count": 39,
   "metadata": {},
   "outputs": [
    {
     "data": {
      "text/plain": [
       "1"
      ]
     },
     "execution_count": 39,
     "metadata": {},
     "output_type": "execute_result"
    }
   ],
   "source": [
    "n1.ndim"
   ]
  },
  {
   "cell_type": "code",
   "execution_count": 40,
   "metadata": {},
   "outputs": [
    {
     "data": {
      "text/plain": [
       "3"
      ]
     },
     "execution_count": 40,
     "metadata": {},
     "output_type": "execute_result"
    }
   ],
   "source": [
    "n3.ndim"
   ]
  },
  {
   "cell_type": "code",
   "execution_count": 49,
   "metadata": {},
   "outputs": [
    {
     "data": {
      "text/plain": [
       "array([[1, 0, 0, 0, 0],\n",
       "       [0, 1, 0, 0, 0],\n",
       "       [0, 0, 1, 0, 0],\n",
       "       [0, 0, 0, 1, 0],\n",
       "       [0, 0, 0, 0, 1]])"
      ]
     },
     "execution_count": 49,
     "metadata": {},
     "output_type": "execute_result"
    }
   ],
   "source": [
    "m1 = np.eye(5, dtype = \"int\")\n",
    "m1   # identity matrix"
   ]
  },
  {
   "cell_type": "code",
   "execution_count": 52,
   "metadata": {},
   "outputs": [
    {
     "data": {
      "text/plain": [
       "array([['1', '1', '1', '1', '1'],\n",
       "       ['1', '1', '1', '1', '1'],\n",
       "       ['1', '1', '1', '1', '1'],\n",
       "       ['1', '1', '1', '1', '1']], dtype='<U1')"
      ]
     },
     "execution_count": 52,
     "metadata": {},
     "output_type": "execute_result"
    }
   ],
   "source": [
    "m2 = np.ones((4,5), dtype = \"str\")\n",
    "m2   # array filled with ones"
   ]
  },
  {
   "cell_type": "code",
   "execution_count": 54,
   "metadata": {},
   "outputs": [
    {
     "data": {
      "text/plain": [
       "array([[0., 0., 0.],\n",
       "       [0., 0., 0.],\n",
       "       [0., 0., 0.]])"
      ]
     },
     "execution_count": 54,
     "metadata": {},
     "output_type": "execute_result"
    }
   ],
   "source": [
    "m3 = np.zeros((3,3))\n",
    "m3"
   ]
  },
  {
   "cell_type": "code",
   "execution_count": 57,
   "metadata": {},
   "outputs": [
    {
     "data": {
      "text/plain": [
       "array([[-1, -1],\n",
       "       [-1, -1],\n",
       "       [-1, -1]])"
      ]
     },
     "execution_count": 57,
     "metadata": {},
     "output_type": "execute_result"
    }
   ],
   "source": [
    "m4 = np.full((3,2),-1)  # shape, value to be filled \n",
    "m4"
   ]
  },
  {
   "cell_type": "code",
   "execution_count": 58,
   "metadata": {},
   "outputs": [
    {
     "data": {
      "text/plain": [
       "array([0, 1, 2, 3, 4, 5, 6, 7, 8, 9])"
      ]
     },
     "execution_count": 58,
     "metadata": {},
     "output_type": "execute_result"
    }
   ],
   "source": [
    "m5 = np.arange(10)\n",
    "m5"
   ]
  },
  {
   "cell_type": "code",
   "execution_count": 59,
   "metadata": {},
   "outputs": [
    {
     "name": "stdout",
     "output_type": "stream",
     "text": [
      "0 1 2 3 4 5 6 7 8 9 "
     ]
    }
   ],
   "source": [
    "for i in range(10):\n",
    "    print(i,end = \" \")"
   ]
  },
  {
   "cell_type": "code",
   "execution_count": 60,
   "metadata": {},
   "outputs": [
    {
     "data": {
      "text/plain": [
       "array([ 1,  6, 11, 16, 21, 26, 31, 36, 41, 46, 51, 56, 61, 66, 71, 76, 81,\n",
       "       86, 91, 96])"
      ]
     },
     "execution_count": 60,
     "metadata": {},
     "output_type": "execute_result"
    }
   ],
   "source": [
    "m6 = np.arange(1,100,5) # startvalue, end value, skip/step value\n",
    "m6"
   ]
  },
  {
   "cell_type": "code",
   "execution_count": 61,
   "metadata": {},
   "outputs": [
    {
     "data": {
      "text/plain": [
       "array([  1.  ,  25.75,  50.5 ,  75.25, 100.  ])"
      ]
     },
     "execution_count": 61,
     "metadata": {},
     "output_type": "execute_result"
    }
   ],
   "source": [
    "m7 = np.linspace(1,100, 5) # start value, end value, length of the parts\n",
    "m7 "
   ]
  },
  {
   "cell_type": "code",
   "execution_count": 65,
   "metadata": {},
   "outputs": [
    {
     "data": {
      "text/plain": [
       "array([0.        , 0.11111111, 0.22222222, 0.33333333, 0.44444444,\n",
       "       0.55555556, 0.66666667, 0.77777778, 0.88888889, 1.        ])"
      ]
     },
     "execution_count": 65,
     "metadata": {},
     "output_type": "execute_result"
    }
   ],
   "source": [
    "m7 = np.linspace(0,1, 10)\n",
    "m7"
   ]
  },
  {
   "cell_type": "code",
   "execution_count": 71,
   "metadata": {},
   "outputs": [
    {
     "data": {
      "text/plain": [
       "array([34, 45, 67, 34, 45, 67, 34, 45, 67, 34, 45, 67])"
      ]
     },
     "execution_count": 71,
     "metadata": {},
     "output_type": "execute_result"
    }
   ],
   "source": [
    "m8 = np.tile(li, 4)\n",
    "m8"
   ]
  },
  {
   "cell_type": "code",
   "execution_count": 70,
   "metadata": {},
   "outputs": [
    {
     "data": {
      "text/plain": [
       "[34, 45, 67, 34, 45, 67, 34, 45, 67, 34, 45, 67]"
      ]
     },
     "execution_count": 70,
     "metadata": {},
     "output_type": "execute_result"
    }
   ],
   "source": [
    "li*4"
   ]
  },
  {
   "cell_type": "markdown",
   "metadata": {},
   "source": [
    "## Random data"
   ]
  },
  {
   "cell_type": "code",
   "execution_count": 88,
   "metadata": {},
   "outputs": [
    {
     "data": {
      "text/plain": [
       "51"
      ]
     },
     "execution_count": 88,
     "metadata": {},
     "output_type": "execute_result"
    }
   ],
   "source": [
    "m9 = np.random.randint(50, 100)\n",
    "m9# it returns integer value with in the given boundary"
   ]
  },
  {
   "cell_type": "code",
   "execution_count": 102,
   "metadata": {},
   "outputs": [
    {
     "data": {
      "text/plain": [
       "array([95, 96, 28])"
      ]
     },
     "execution_count": 102,
     "metadata": {},
     "output_type": "execute_result"
    }
   ],
   "source": [
    "m9 = np.random.randint(1,100, 3) # start value, end value, quantity \n",
    "m9"
   ]
  },
  {
   "cell_type": "code",
   "execution_count": 104,
   "metadata": {},
   "outputs": [
    {
     "data": {
      "text/plain": [
       "array([[1, 7, 8, 7, 9],\n",
       "       [8, 4, 4, 1, 2],\n",
       "       [1, 9, 5, 9, 6],\n",
       "       [9, 6, 6, 6, 8]])"
      ]
     },
     "execution_count": 104,
     "metadata": {},
     "output_type": "execute_result"
    }
   ],
   "source": [
    "m9 = np.random.randint(1,10,(4,5))\n",
    "m9  # always start value inclusive and end value Exclusive"
   ]
  },
  {
   "cell_type": "code",
   "execution_count": 80,
   "metadata": {
    "collapsed": true
   },
   "outputs": [
    {
     "data": {
      "text/plain": [
       "array([0.49769267, 0.92043254, 0.29829905, 0.86210256, 0.04442535,\n",
       "       0.36291844, 0.05170278, 0.80246603, 0.91302518, 0.48679582,\n",
       "       0.97056578, 0.27983458, 0.23880113, 0.94315232, 0.35151163,\n",
       "       0.01098268, 0.29279544, 0.49516094, 0.45485789, 0.70213194,\n",
       "       0.97432417, 0.38103569, 0.80927452, 0.07985277, 0.80501234,\n",
       "       0.26044086, 0.65319595, 0.35565933, 0.23316658, 0.94631771,\n",
       "       0.90264831, 0.09792537, 0.24346583, 0.95011337, 0.88185523,\n",
       "       0.25291941, 0.5936349 , 0.28058733, 0.58318048, 0.83253507,\n",
       "       0.98545566, 0.82502308, 0.2441291 , 0.4169867 , 0.44210151,\n",
       "       0.1354737 , 0.95229778, 0.56708167, 0.04023841, 0.91666958,\n",
       "       0.80115685, 0.9538497 , 0.69889756, 0.31307273, 0.47203081,\n",
       "       0.96138368, 0.83969109, 0.11455224, 0.10930868, 0.40680912,\n",
       "       0.20699351, 0.9322982 , 0.41489477, 0.64052022, 0.26237635,\n",
       "       0.2416749 , 0.27065598, 0.86688321, 0.76237038, 0.29383135,\n",
       "       0.99201174, 0.75769544, 0.01873807, 0.75461433, 0.73287879,\n",
       "       0.63034184, 0.32316634, 0.46928737, 0.07470055, 0.23874673,\n",
       "       0.2124659 , 0.39131989, 0.83488612, 0.42365379, 0.59205318,\n",
       "       0.30410469, 0.46212114, 0.44418274, 0.74979954, 0.22800429,\n",
       "       0.94107502, 0.1623168 , 0.27027516, 0.84466896, 0.15381728,\n",
       "       0.1636036 , 0.13426683, 0.40720778, 0.90950561, 0.31096403])"
      ]
     },
     "execution_count": 80,
     "metadata": {},
     "output_type": "execute_result"
    }
   ],
   "source": [
    "m10 = np.random.rand(100)\n",
    "m10   # boundary is 0 to 1  , it generates the given number of  values in between 0 to 1"
   ]
  },
  {
   "cell_type": "code",
   "execution_count": 101,
   "metadata": {},
   "outputs": [
    {
     "data": {
      "text/plain": [
       "array([[0.46795819, 0.0636768 , 0.17811271],\n",
       "       [0.48967821, 0.69106277, 0.41914517]])"
      ]
     },
     "execution_count": 101,
     "metadata": {},
     "output_type": "execute_result"
    }
   ],
   "source": [
    "m11 = np.random.random((2,3))\n",
    "m11   # it returns only one value from 0 to 1"
   ]
  },
  {
   "cell_type": "code",
   "execution_count": 111,
   "metadata": {},
   "outputs": [
    {
     "data": {
      "text/plain": [
       "0.6749177363682674"
      ]
     },
     "execution_count": 111,
     "metadata": {},
     "output_type": "execute_result"
    }
   ],
   "source": [
    "m12 = np.random.rand()\n",
    "m12"
   ]
  },
  {
   "cell_type": "code",
   "execution_count": 108,
   "metadata": {},
   "outputs": [
    {
     "name": "stdout",
     "output_type": "stream",
     "text": [
      "2\n",
      "4\n"
     ]
    }
   ],
   "source": [
    "print(m9.ndim) # No. of Dimentions\n",
    "print(m9.itemsize) # memory used by each element in bytes"
   ]
  },
  {
   "cell_type": "code",
   "execution_count": 113,
   "metadata": {},
   "outputs": [
    {
     "data": {
      "text/plain": [
       "8"
      ]
     },
     "execution_count": 113,
     "metadata": {},
     "output_type": "execute_result"
    }
   ],
   "source": [
    "m7.itemsize"
   ]
  },
  {
   "cell_type": "code",
   "execution_count": 114,
   "metadata": {},
   "outputs": [
    {
     "data": {
      "text/plain": [
       "array([0.        , 0.11111111, 0.22222222, 0.33333333, 0.44444444,\n",
       "       0.55555556, 0.66666667, 0.77777778, 0.88888889, 1.        ])"
      ]
     },
     "execution_count": 114,
     "metadata": {},
     "output_type": "execute_result"
    }
   ],
   "source": [
    "m7"
   ]
  },
  {
   "cell_type": "code",
   "execution_count": 115,
   "metadata": {},
   "outputs": [
    {
     "data": {
      "text/plain": [
       "dtype('int32')"
      ]
     },
     "execution_count": 115,
     "metadata": {},
     "output_type": "execute_result"
    }
   ],
   "source": [
    "m9.dtype # data type of the array"
   ]
  },
  {
   "cell_type": "code",
   "execution_count": 116,
   "metadata": {},
   "outputs": [
    {
     "data": {
      "text/plain": [
       "(10,)"
      ]
     },
     "execution_count": 116,
     "metadata": {},
     "output_type": "execute_result"
    }
   ],
   "source": [
    "m7.shape"
   ]
  },
  {
   "cell_type": "markdown",
   "metadata": {},
   "source": [
    "## N-D array\n"
   ]
  },
  {
   "cell_type": "code",
   "execution_count": 126,
   "metadata": {},
   "outputs": [
    {
     "data": {
      "text/plain": [
       "array([[93, 25, 47, 13, 37, 73, 22, 19, 98, 37, 28, 49, 80, 78, 55]])"
      ]
     },
     "execution_count": 126,
     "metadata": {},
     "output_type": "execute_result"
    }
   ],
   "source": [
    "n_array = np.random.randint(1, 100, (5,3)).reshape(1,15)\n",
    "n_array\n",
    "\n",
    "# 15 - 3*5 , 5*3, 1* 15, 15*1 "
   ]
  },
  {
   "cell_type": "code",
   "execution_count": 123,
   "metadata": {},
   "outputs": [
    {
     "data": {
      "text/plain": [
       "2"
      ]
     },
     "execution_count": 123,
     "metadata": {},
     "output_type": "execute_result"
    }
   ],
   "source": [
    "n_array.ndim"
   ]
  },
  {
   "cell_type": "code",
   "execution_count": 127,
   "metadata": {},
   "outputs": [
    {
     "data": {
      "text/plain": [
       "array([[76, 47,  4, 19, 75, 58],\n",
       "       [90, 92, 25, 48, 36,  3],\n",
       "       [72, 37, 39, 39, 78, 35],\n",
       "       [81, 57, 86, 40, 32, 24],\n",
       "       [58, 35,  4, 73, 48, 58]])"
      ]
     },
     "execution_count": 127,
     "metadata": {},
     "output_type": "execute_result"
    }
   ],
   "source": [
    "n_array = np.random.randint(1, 100, (5,6))\n",
    "n_array\n",
    "# factors of 30 - 2*15, 15*2, 3*10, 10*3, 6*5"
   ]
  },
  {
   "cell_type": "code",
   "execution_count": 129,
   "metadata": {},
   "outputs": [
    {
     "data": {
      "text/plain": [
       "array([[75, 17, 42, 79, 94, 94, 87, 46, 73, 74],\n",
       "       [11, 92, 39, 21, 39, 24, 81, 31, 55, 24],\n",
       "       [85, 39, 77, 75, 29, 12, 55, 17, 77, 63]])"
      ]
     },
     "execution_count": 129,
     "metadata": {},
     "output_type": "execute_result"
    }
   ],
   "source": [
    "n_array = np.random.randint(1, 100, (5,6)).reshape(3,10)\n",
    "n_array"
   ]
  },
  {
   "cell_type": "code",
   "execution_count": 130,
   "metadata": {
    "collapsed": true
   },
   "outputs": [
    {
     "data": {
      "text/plain": [
       "array([[60, 96, 80],\n",
       "       [77, 71,  8],\n",
       "       [56, 39, 84],\n",
       "       [13,  1,  2],\n",
       "       [54, 32,  2],\n",
       "       [46, 23, 22],\n",
       "       [79,  6, 26],\n",
       "       [80, 57, 36],\n",
       "       [59, 11, 43],\n",
       "       [ 9, 28, 67]])"
      ]
     },
     "execution_count": 130,
     "metadata": {},
     "output_type": "execute_result"
    }
   ],
   "source": [
    "n_array = np.random.randint(1, 100, (5,6)).reshape(10,3)\n",
    "n_array"
   ]
  },
  {
   "cell_type": "code",
   "execution_count": 132,
   "metadata": {},
   "outputs": [
    {
     "data": {
      "text/plain": [
       "2"
      ]
     },
     "execution_count": 132,
     "metadata": {},
     "output_type": "execute_result"
    }
   ],
   "source": [
    "n_array = np.random.randint(1, 100, (5,6)).reshape(2,15)\n",
    "n_array.ndim"
   ]
  },
  {
   "cell_type": "code",
   "execution_count": 135,
   "metadata": {},
   "outputs": [
    {
     "data": {
      "text/plain": [
       "3"
      ]
     },
     "execution_count": 135,
     "metadata": {},
     "output_type": "execute_result"
    }
   ],
   "source": [
    "n_array = np.random.randint(1, 100, (5,6)).reshape(1,3,10)\n",
    "n_array.ndim"
   ]
  },
  {
   "cell_type": "code",
   "execution_count": 139,
   "metadata": {},
   "outputs": [
    {
     "name": "stdout",
     "output_type": "stream",
     "text": [
      "3\n"
     ]
    },
    {
     "data": {
      "text/plain": [
       "array([[[52, 62, 18, 26, 63],\n",
       "        [66, 45, 96, 80, 54],\n",
       "        [98, 57, 36, 15, 36]],\n",
       "\n",
       "       [[98, 41, 50, 29, 64],\n",
       "        [12, 50, 44, 97, 97],\n",
       "        [39, 52, 29, 70, 83]]])"
      ]
     },
     "execution_count": 139,
     "metadata": {},
     "output_type": "execute_result"
    }
   ],
   "source": [
    "n_array = np.random.randint(1, 100, (5,6)).reshape(2,3,5)\n",
    "print(n_array.ndim)\n",
    "n_array"
   ]
  },
  {
   "cell_type": "code",
   "execution_count": 141,
   "metadata": {},
   "outputs": [
    {
     "data": {
      "text/plain": [
       "4"
      ]
     },
     "execution_count": 141,
     "metadata": {},
     "output_type": "execute_result"
    }
   ],
   "source": [
    "n_array = np.random.randint(1, 100, (5,6)).reshape(1,2,3,5)\n",
    "n_array.ndim"
   ]
  },
  {
   "cell_type": "code",
   "execution_count": 142,
   "metadata": {},
   "outputs": [
    {
     "data": {
      "text/plain": [
       "array([[13, 16, 71, 48, 88, 17,  2, 60,  8, 66],\n",
       "       [24, 50, 98, 41, 92, 63, 70, 20, 73, 25],\n",
       "       [21, 75, 68, 69, 34, 34, 18, 39, 73, 63]])"
      ]
     },
     "execution_count": 142,
     "metadata": {},
     "output_type": "execute_result"
    }
   ],
   "source": [
    "n_array = np.random.randint(1, 100, (5,6)).reshape(3,10)\n",
    "n_array"
   ]
  },
  {
   "cell_type": "markdown",
   "metadata": {},
   "source": [
    "25 \n",
    "10,3  - 30"
   ]
  },
  {
   "cell_type": "markdown",
   "metadata": {},
   "source": [
    "## SubSets and Slicing, Indexing"
   ]
  },
  {
   "cell_type": "code",
   "execution_count": 143,
   "metadata": {
    "collapsed": true
   },
   "outputs": [
    {
     "data": {
      "text/plain": [
       "array([0.49769267, 0.92043254, 0.29829905, 0.86210256, 0.04442535,\n",
       "       0.36291844, 0.05170278, 0.80246603, 0.91302518, 0.48679582,\n",
       "       0.97056578, 0.27983458, 0.23880113, 0.94315232, 0.35151163,\n",
       "       0.01098268, 0.29279544, 0.49516094, 0.45485789, 0.70213194,\n",
       "       0.97432417, 0.38103569, 0.80927452, 0.07985277, 0.80501234,\n",
       "       0.26044086, 0.65319595, 0.35565933, 0.23316658, 0.94631771,\n",
       "       0.90264831, 0.09792537, 0.24346583, 0.95011337, 0.88185523,\n",
       "       0.25291941, 0.5936349 , 0.28058733, 0.58318048, 0.83253507,\n",
       "       0.98545566, 0.82502308, 0.2441291 , 0.4169867 , 0.44210151,\n",
       "       0.1354737 , 0.95229778, 0.56708167, 0.04023841, 0.91666958,\n",
       "       0.80115685, 0.9538497 , 0.69889756, 0.31307273, 0.47203081,\n",
       "       0.96138368, 0.83969109, 0.11455224, 0.10930868, 0.40680912,\n",
       "       0.20699351, 0.9322982 , 0.41489477, 0.64052022, 0.26237635,\n",
       "       0.2416749 , 0.27065598, 0.86688321, 0.76237038, 0.29383135,\n",
       "       0.99201174, 0.75769544, 0.01873807, 0.75461433, 0.73287879,\n",
       "       0.63034184, 0.32316634, 0.46928737, 0.07470055, 0.23874673,\n",
       "       0.2124659 , 0.39131989, 0.83488612, 0.42365379, 0.59205318,\n",
       "       0.30410469, 0.46212114, 0.44418274, 0.74979954, 0.22800429,\n",
       "       0.94107502, 0.1623168 , 0.27027516, 0.84466896, 0.15381728,\n",
       "       0.1636036 , 0.13426683, 0.40720778, 0.90950561, 0.31096403])"
      ]
     },
     "execution_count": 143,
     "metadata": {},
     "output_type": "execute_result"
    }
   ],
   "source": [
    "m10"
   ]
  },
  {
   "cell_type": "code",
   "execution_count": 149,
   "metadata": {},
   "outputs": [
    {
     "data": {
      "text/plain": [
       "array([0.97056578, 0.01098268, 0.97432417, 0.26044086, 0.90264831,\n",
       "       0.25291941, 0.98545566, 0.1354737 , 0.80115685, 0.96138368,\n",
       "       0.20699351, 0.2416749 , 0.99201174, 0.63034184, 0.2124659 ,\n",
       "       0.30410469, 0.94107502, 0.1636036 ])"
      ]
     },
     "execution_count": 149,
     "metadata": {},
     "output_type": "execute_result"
    }
   ],
   "source": [
    "m10[ 10: 100: 5] # start value, end value, skip value"
   ]
  },
  {
   "cell_type": "code",
   "execution_count": 159,
   "metadata": {},
   "outputs": [
    {
     "data": {
      "text/plain": [
       "array([ 1,  6, 11, 16, 21, 26, 31, 36, 41, 46, 51, 56, 61, 66, 71, 76, 81,\n",
       "       86, 91, 96])"
      ]
     },
     "execution_count": 159,
     "metadata": {},
     "output_type": "execute_result"
    }
   ],
   "source": [
    "n = np.arange(1,100,5)\n",
    "n"
   ]
  },
  {
   "cell_type": "code",
   "execution_count": 162,
   "metadata": {},
   "outputs": [
    {
     "data": {
      "text/plain": [
       "array([[ 1,  6, 11, 16],\n",
       "       [21, 26, 31, 36],\n",
       "       [41, 46, 51, 56],\n",
       "       [61, 66, 71, 76],\n",
       "       [81, 86, 91, 96]])"
      ]
     },
     "execution_count": 162,
     "metadata": {},
     "output_type": "execute_result"
    }
   ],
   "source": [
    "n = np.arange(1,100,5).reshape(5,-1)\n",
    "n"
   ]
  },
  {
   "cell_type": "code",
   "execution_count": 165,
   "metadata": {},
   "outputs": [
    {
     "data": {
      "text/plain": [
       "array([21, 26, 31, 36])"
      ]
     },
     "execution_count": 165,
     "metadata": {},
     "output_type": "execute_result"
    }
   ],
   "source": [
    "# accessing rows\n",
    "n[1]"
   ]
  },
  {
   "cell_type": "code",
   "execution_count": 166,
   "metadata": {},
   "outputs": [
    {
     "data": {
      "text/plain": [
       "array([[21, 26, 31, 36],\n",
       "       [41, 46, 51, 56]])"
      ]
     },
     "execution_count": 166,
     "metadata": {},
     "output_type": "execute_result"
    }
   ],
   "source": [
    "n[1:3]"
   ]
  },
  {
   "cell_type": "code",
   "execution_count": 168,
   "metadata": {},
   "outputs": [
    {
     "data": {
      "text/plain": [
       "array([[ 1,  6, 11, 16],\n",
       "       [41, 46, 51, 56],\n",
       "       [81, 86, 91, 96]])"
      ]
     },
     "execution_count": 168,
     "metadata": {},
     "output_type": "execute_result"
    }
   ],
   "source": [
    "n[::2]  # even rows "
   ]
  },
  {
   "cell_type": "code",
   "execution_count": 171,
   "metadata": {},
   "outputs": [
    {
     "data": {
      "text/plain": [
       "array([[21, 26, 31, 36],\n",
       "       [41, 46, 51, 56],\n",
       "       [61, 66, 71, 76],\n",
       "       [81, 86, 91, 96]])"
      ]
     },
     "execution_count": 171,
     "metadata": {},
     "output_type": "execute_result"
    }
   ],
   "source": [
    "n[1 : : 1] # odd rows "
   ]
  },
  {
   "cell_type": "code",
   "execution_count": 174,
   "metadata": {},
   "outputs": [
    {
     "data": {
      "text/plain": [
       "array([[ 1,  6, 11, 16],\n",
       "       [21, 26, 31, 36],\n",
       "       [41, 46, 51, 56],\n",
       "       [61, 66, 71, 76]])"
      ]
     },
     "execution_count": 174,
     "metadata": {},
     "output_type": "execute_result"
    }
   ],
   "source": [
    "n[0:4:1]"
   ]
  },
  {
   "cell_type": "code",
   "execution_count": 175,
   "metadata": {},
   "outputs": [
    {
     "data": {
      "text/plain": [
       "array([[21, 26, 31, 36],\n",
       "       [41, 46, 51, 56]])"
      ]
     },
     "execution_count": 175,
     "metadata": {},
     "output_type": "execute_result"
    }
   ],
   "source": [
    "n[1:3:1]"
   ]
  },
  {
   "cell_type": "code",
   "execution_count": 176,
   "metadata": {},
   "outputs": [
    {
     "data": {
      "text/plain": [
       "array([[ 1,  6, 11, 16],\n",
       "       [21, 26, 31, 36],\n",
       "       [41, 46, 51, 56],\n",
       "       [61, 66, 71, 76],\n",
       "       [81, 86, 91, 96]])"
      ]
     },
     "execution_count": 176,
     "metadata": {},
     "output_type": "execute_result"
    }
   ],
   "source": [
    "n[ : : ]"
   ]
  },
  {
   "cell_type": "code",
   "execution_count": 178,
   "metadata": {},
   "outputs": [
    {
     "data": {
      "text/plain": [
       "array([[21, 26, 31, 36],\n",
       "       [41, 46, 51, 56]])"
      ]
     },
     "execution_count": 178,
     "metadata": {},
     "output_type": "execute_result"
    }
   ],
   "source": [
    "n[1:3:]"
   ]
  },
  {
   "cell_type": "code",
   "execution_count": 179,
   "metadata": {},
   "outputs": [
    {
     "data": {
      "text/plain": [
       "array([[ 1,  6, 11, 16],\n",
       "       [41, 46, 51, 56],\n",
       "       [81, 86, 91, 96]])"
      ]
     },
     "execution_count": 179,
     "metadata": {},
     "output_type": "execute_result"
    }
   ],
   "source": [
    "n[::2]"
   ]
  },
  {
   "cell_type": "code",
   "execution_count": 180,
   "metadata": {},
   "outputs": [
    {
     "data": {
      "text/plain": [
       "array([[21, 26, 31, 36],\n",
       "       [61, 66, 71, 76]])"
      ]
     },
     "execution_count": 180,
     "metadata": {},
     "output_type": "execute_result"
    }
   ],
   "source": [
    "n[1::2]# odd rows 1, 3"
   ]
  },
  {
   "cell_type": "markdown",
   "metadata": {},
   "source": [
    "### accessing values"
   ]
  },
  {
   "cell_type": "code",
   "execution_count": 185,
   "metadata": {},
   "outputs": [
    {
     "data": {
      "text/plain": [
       "array([[ 1,  6, 11, 16],\n",
       "       [21, 26, 31, 36],\n",
       "       [41, 46, 51, 56],\n",
       "       [61, 66, 71, 76],\n",
       "       [81, 86, 91, 96]])"
      ]
     },
     "execution_count": 185,
     "metadata": {},
     "output_type": "execute_result"
    }
   ],
   "source": [
    "n"
   ]
  },
  {
   "cell_type": "code",
   "execution_count": 186,
   "metadata": {},
   "outputs": [
    {
     "data": {
      "text/plain": [
       "1"
      ]
     },
     "execution_count": 186,
     "metadata": {},
     "output_type": "execute_result"
    }
   ],
   "source": [
    "n[0][0]"
   ]
  },
  {
   "cell_type": "code",
   "execution_count": 187,
   "metadata": {},
   "outputs": [
    {
     "data": {
      "text/plain": [
       "16"
      ]
     },
     "execution_count": 187,
     "metadata": {},
     "output_type": "execute_result"
    }
   ],
   "source": [
    "n[0][-1]"
   ]
  },
  {
   "cell_type": "code",
   "execution_count": 188,
   "metadata": {},
   "outputs": [
    {
     "data": {
      "text/plain": [
       "96"
      ]
     },
     "execution_count": 188,
     "metadata": {},
     "output_type": "execute_result"
    }
   ],
   "source": [
    "n[-1][-1]"
   ]
  },
  {
   "cell_type": "code",
   "execution_count": 189,
   "metadata": {},
   "outputs": [
    {
     "data": {
      "text/plain": [
       "81"
      ]
     },
     "execution_count": 189,
     "metadata": {},
     "output_type": "execute_result"
    }
   ],
   "source": [
    "n[-1][0]"
   ]
  },
  {
   "cell_type": "code",
   "execution_count": 190,
   "metadata": {},
   "outputs": [
    {
     "data": {
      "text/plain": [
       "31"
      ]
     },
     "execution_count": 190,
     "metadata": {},
     "output_type": "execute_result"
    }
   ],
   "source": [
    "n[1][2]"
   ]
  },
  {
   "cell_type": "markdown",
   "metadata": {},
   "source": [
    "### Accessing Subsets"
   ]
  },
  {
   "cell_type": "code",
   "execution_count": 191,
   "metadata": {},
   "outputs": [
    {
     "data": {
      "text/plain": [
       "array([[ 1,  6, 11, 16],\n",
       "       [21, 26, 31, 36],\n",
       "       [41, 46, 51, 56],\n",
       "       [61, 66, 71, 76],\n",
       "       [81, 86, 91, 96]])"
      ]
     },
     "execution_count": 191,
     "metadata": {},
     "output_type": "execute_result"
    }
   ],
   "source": [
    "n"
   ]
  },
  {
   "cell_type": "code",
   "execution_count": 198,
   "metadata": {},
   "outputs": [
    {
     "data": {
      "text/plain": [
       "array([[ 1,  6],\n",
       "       [21, 26]])"
      ]
     },
     "execution_count": 198,
     "metadata": {},
     "output_type": "execute_result"
    }
   ],
   "source": [
    "n[0:2, 0:2] # rows slicing, columns slicing"
   ]
  },
  {
   "cell_type": "code",
   "execution_count": 201,
   "metadata": {},
   "outputs": [
    {
     "data": {
      "text/plain": [
       "array([[71, 76],\n",
       "       [91, 96]])"
      ]
     },
     "execution_count": 201,
     "metadata": {},
     "output_type": "execute_result"
    }
   ],
   "source": [
    "n[3:, 2:]"
   ]
  },
  {
   "cell_type": "markdown",
   "metadata": {},
   "source": [
    "### Accessing Columns\n"
   ]
  },
  {
   "cell_type": "code",
   "execution_count": 203,
   "metadata": {},
   "outputs": [
    {
     "data": {
      "text/plain": [
       "array([[ 1,  6, 11, 16],\n",
       "       [21, 26, 31, 36],\n",
       "       [41, 46, 51, 56],\n",
       "       [61, 66, 71, 76],\n",
       "       [81, 86, 91, 96]])"
      ]
     },
     "execution_count": 203,
     "metadata": {},
     "output_type": "execute_result"
    }
   ],
   "source": [
    "n"
   ]
  },
  {
   "cell_type": "code",
   "execution_count": 202,
   "metadata": {},
   "outputs": [
    {
     "data": {
      "text/plain": [
       "array([ 1, 21, 41, 61, 81])"
      ]
     },
     "execution_count": 202,
     "metadata": {},
     "output_type": "execute_result"
    }
   ],
   "source": [
    "n[:, 0]"
   ]
  },
  {
   "cell_type": "code",
   "execution_count": 204,
   "metadata": {},
   "outputs": [
    {
     "data": {
      "text/plain": [
       "array([[ 1, 11],\n",
       "       [21, 31],\n",
       "       [41, 51],\n",
       "       [61, 71],\n",
       "       [81, 91]])"
      ]
     },
     "execution_count": 204,
     "metadata": {},
     "output_type": "execute_result"
    }
   ],
   "source": [
    "n[:, 0::2] # even columns"
   ]
  },
  {
   "cell_type": "code",
   "execution_count": 205,
   "metadata": {},
   "outputs": [
    {
     "data": {
      "text/plain": [
       "array([[ 6, 16],\n",
       "       [26, 36],\n",
       "       [46, 56],\n",
       "       [66, 76],\n",
       "       [86, 96]])"
      ]
     },
     "execution_count": 205,
     "metadata": {},
     "output_type": "execute_result"
    }
   ],
   "source": [
    "n[:, 1::2]"
   ]
  },
  {
   "cell_type": "code",
   "execution_count": 211,
   "metadata": {},
   "outputs": [
    {
     "data": {
      "text/plain": [
       "2"
      ]
     },
     "execution_count": 211,
     "metadata": {},
     "output_type": "execute_result"
    }
   ],
   "source": [
    "n.ndim"
   ]
  },
  {
   "cell_type": "code",
   "execution_count": 206,
   "metadata": {},
   "outputs": [
    {
     "data": {
      "text/plain": [
       "array([16, 36, 56, 76, 96])"
      ]
     },
     "execution_count": 206,
     "metadata": {},
     "output_type": "execute_result"
    }
   ],
   "source": [
    "n[:, -1]"
   ]
  },
  {
   "cell_type": "code",
   "execution_count": 208,
   "metadata": {},
   "outputs": [
    {
     "data": {
      "text/plain": [
       "96"
      ]
     },
     "execution_count": 208,
     "metadata": {},
     "output_type": "execute_result"
    }
   ],
   "source": [
    "n[-1,-1]"
   ]
  },
  {
   "cell_type": "code",
   "execution_count": 212,
   "metadata": {
    "collapsed": true
   },
   "outputs": [
    {
     "name": "stdout",
     "output_type": "stream",
     "text": [
      "1\n",
      "6\n",
      "11\n",
      "16\n",
      "21\n",
      "26\n",
      "31\n",
      "36\n",
      "41\n",
      "46\n",
      "51\n",
      "56\n",
      "61\n",
      "66\n",
      "71\n",
      "76\n",
      "81\n",
      "86\n",
      "91\n",
      "96\n"
     ]
    }
   ],
   "source": [
    "for i in n:\n",
    "    for j in i:\n",
    "        print(j)"
   ]
  },
  {
   "cell_type": "markdown",
   "metadata": {},
   "source": [
    "# Statastical Operation"
   ]
  },
  {
   "cell_type": "code",
   "execution_count": 214,
   "metadata": {},
   "outputs": [
    {
     "data": {
      "text/plain": [
       "1"
      ]
     },
     "execution_count": 214,
     "metadata": {},
     "output_type": "execute_result"
    }
   ],
   "source": [
    "n.min()"
   ]
  },
  {
   "cell_type": "code",
   "execution_count": 215,
   "metadata": {},
   "outputs": [
    {
     "data": {
      "text/plain": [
       "96"
      ]
     },
     "execution_count": 215,
     "metadata": {},
     "output_type": "execute_result"
    }
   ],
   "source": [
    "n.max()"
   ]
  },
  {
   "cell_type": "code",
   "execution_count": 216,
   "metadata": {},
   "outputs": [
    {
     "data": {
      "text/plain": [
       "48.5"
      ]
     },
     "execution_count": 216,
     "metadata": {},
     "output_type": "execute_result"
    }
   ],
   "source": [
    "n.mean()"
   ]
  },
  {
   "cell_type": "code",
   "execution_count": 219,
   "metadata": {},
   "outputs": [
    {
     "data": {
      "text/plain": [
       "48.666666666666664"
      ]
     },
     "execution_count": 219,
     "metadata": {},
     "output_type": "execute_result"
    }
   ],
   "source": [
    "s = 0\n",
    "for i in li:\n",
    "    s += i\n",
    "s/len(li)"
   ]
  },
  {
   "cell_type": "code",
   "execution_count": 220,
   "metadata": {},
   "outputs": [
    {
     "data": {
      "text/plain": [
       "48.666666666666664"
      ]
     },
     "execution_count": 220,
     "metadata": {},
     "output_type": "execute_result"
    }
   ],
   "source": [
    "np.array(li).mean() # Average "
   ]
  },
  {
   "cell_type": "code",
   "execution_count": 223,
   "metadata": {},
   "outputs": [
    {
     "data": {
      "text/plain": [
       "48.5"
      ]
     },
     "execution_count": 223,
     "metadata": {},
     "output_type": "execute_result"
    }
   ],
   "source": [
    "np.median(n) # it given middle value after sorting"
   ]
  },
  {
   "cell_type": "code",
   "execution_count": 224,
   "metadata": {},
   "outputs": [
    {
     "data": {
      "text/plain": [
       "831.25"
      ]
     },
     "execution_count": 224,
     "metadata": {},
     "output_type": "execute_result"
    }
   ],
   "source": [
    "n.var()"
   ]
  },
  {
   "cell_type": "code",
   "execution_count": 225,
   "metadata": {},
   "outputs": [
    {
     "data": {
      "text/plain": [
       "28.83140648667699"
      ]
     },
     "execution_count": 225,
     "metadata": {},
     "output_type": "execute_result"
    }
   ],
   "source": [
    "n.std()"
   ]
  },
  {
   "cell_type": "code",
   "execution_count": 229,
   "metadata": {},
   "outputs": [
    {
     "data": {
      "text/plain": [
       "array([[ 1,  6, 11, 16],\n",
       "       [21, 26, 31, 36],\n",
       "       [41, 46, 51, 56],\n",
       "       [61, 66, 71, 76],\n",
       "       [81, 86, 91, 96]])"
      ]
     },
     "execution_count": 229,
     "metadata": {},
     "output_type": "execute_result"
    }
   ],
   "source": [
    "n.sort()\n",
    "n"
   ]
  },
  {
   "cell_type": "code",
   "execution_count": 232,
   "metadata": {},
   "outputs": [
    {
     "data": {
      "text/plain": [
       "-0.5063656411097588"
      ]
     },
     "execution_count": 232,
     "metadata": {},
     "output_type": "execute_result"
    }
   ],
   "source": [
    "np.sin(100)"
   ]
  },
  {
   "cell_type": "code",
   "execution_count": 233,
   "metadata": {},
   "outputs": [
    {
     "data": {
      "text/plain": [
       "2.302585092994046"
      ]
     },
     "execution_count": 233,
     "metadata": {},
     "output_type": "execute_result"
    }
   ],
   "source": [
    "np.log(10)"
   ]
  },
  {
   "cell_type": "code",
   "execution_count": 234,
   "metadata": {},
   "outputs": [
    {
     "data": {
      "text/plain": [
       "1.0"
      ]
     },
     "execution_count": 234,
     "metadata": {},
     "output_type": "execute_result"
    }
   ],
   "source": [
    "np.log10(10)"
   ]
  },
  {
   "cell_type": "code",
   "execution_count": 237,
   "metadata": {},
   "outputs": [
    {
     "data": {
      "text/plain": [
       "100"
      ]
     },
     "execution_count": 237,
     "metadata": {},
     "output_type": "execute_result"
    }
   ],
   "source": [
    "np.power(10,2)"
   ]
  },
  {
   "cell_type": "code",
   "execution_count": 240,
   "metadata": {},
   "outputs": [
    {
     "data": {
      "text/plain": [
       "1"
      ]
     },
     "execution_count": 240,
     "metadata": {},
     "output_type": "execute_result"
    }
   ],
   "source": [
    "np.mod(11,2)"
   ]
  },
  {
   "cell_type": "code",
   "execution_count": 244,
   "metadata": {},
   "outputs": [
    {
     "data": {
      "text/plain": [
       "3.3333333333333335"
      ]
     },
     "execution_count": 244,
     "metadata": {},
     "output_type": "execute_result"
    }
   ],
   "source": [
    "np.divide(10,3)"
   ]
  },
  {
   "cell_type": "code",
   "execution_count": 245,
   "metadata": {
    "collapsed": true
   },
   "outputs": [
    {
     "data": {
      "text/plain": [
       "['ALLOW_THREADS',\n",
       " 'AxisError',\n",
       " 'BUFSIZE',\n",
       " 'CLIP',\n",
       " 'ComplexWarning',\n",
       " 'DataSource',\n",
       " 'ERR_CALL',\n",
       " 'ERR_DEFAULT',\n",
       " 'ERR_IGNORE',\n",
       " 'ERR_LOG',\n",
       " 'ERR_PRINT',\n",
       " 'ERR_RAISE',\n",
       " 'ERR_WARN',\n",
       " 'FLOATING_POINT_SUPPORT',\n",
       " 'FPE_DIVIDEBYZERO',\n",
       " 'FPE_INVALID',\n",
       " 'FPE_OVERFLOW',\n",
       " 'FPE_UNDERFLOW',\n",
       " 'False_',\n",
       " 'Inf',\n",
       " 'Infinity',\n",
       " 'MAXDIMS',\n",
       " 'MAY_SHARE_BOUNDS',\n",
       " 'MAY_SHARE_EXACT',\n",
       " 'MachAr',\n",
       " 'ModuleDeprecationWarning',\n",
       " 'NAN',\n",
       " 'NINF',\n",
       " 'NZERO',\n",
       " 'NaN',\n",
       " 'PINF',\n",
       " 'PZERO',\n",
       " 'RAISE',\n",
       " 'RankWarning',\n",
       " 'SHIFT_DIVIDEBYZERO',\n",
       " 'SHIFT_INVALID',\n",
       " 'SHIFT_OVERFLOW',\n",
       " 'SHIFT_UNDERFLOW',\n",
       " 'ScalarType',\n",
       " 'Tester',\n",
       " 'TooHardError',\n",
       " 'True_',\n",
       " 'UFUNC_BUFSIZE_DEFAULT',\n",
       " 'UFUNC_PYVALS_NAME',\n",
       " 'VisibleDeprecationWarning',\n",
       " 'WRAP',\n",
       " '_NoValue',\n",
       " '_UFUNC_API',\n",
       " '__NUMPY_SETUP__',\n",
       " '__all__',\n",
       " '__builtins__',\n",
       " '__cached__',\n",
       " '__config__',\n",
       " '__dir__',\n",
       " '__doc__',\n",
       " '__file__',\n",
       " '__getattr__',\n",
       " '__git_revision__',\n",
       " '__loader__',\n",
       " '__mkl_version__',\n",
       " '__name__',\n",
       " '__package__',\n",
       " '__path__',\n",
       " '__spec__',\n",
       " '__version__',\n",
       " '_add_newdoc_ufunc',\n",
       " '_distributor_init',\n",
       " '_globals',\n",
       " '_mat',\n",
       " '_pytesttester',\n",
       " 'abs',\n",
       " 'absolute',\n",
       " 'absolute_import',\n",
       " 'add',\n",
       " 'add_docstring',\n",
       " 'add_newdoc',\n",
       " 'add_newdoc_ufunc',\n",
       " 'alen',\n",
       " 'all',\n",
       " 'allclose',\n",
       " 'alltrue',\n",
       " 'amax',\n",
       " 'amin',\n",
       " 'angle',\n",
       " 'any',\n",
       " 'append',\n",
       " 'apply_along_axis',\n",
       " 'apply_over_axes',\n",
       " 'arange',\n",
       " 'arccos',\n",
       " 'arccosh',\n",
       " 'arcsin',\n",
       " 'arcsinh',\n",
       " 'arctan',\n",
       " 'arctan2',\n",
       " 'arctanh',\n",
       " 'argmax',\n",
       " 'argmin',\n",
       " 'argpartition',\n",
       " 'argsort',\n",
       " 'argwhere',\n",
       " 'around',\n",
       " 'array',\n",
       " 'array2string',\n",
       " 'array_equal',\n",
       " 'array_equiv',\n",
       " 'array_repr',\n",
       " 'array_split',\n",
       " 'array_str',\n",
       " 'asanyarray',\n",
       " 'asarray',\n",
       " 'asarray_chkfinite',\n",
       " 'ascontiguousarray',\n",
       " 'asfarray',\n",
       " 'asfortranarray',\n",
       " 'asmatrix',\n",
       " 'asscalar',\n",
       " 'atleast_1d',\n",
       " 'atleast_2d',\n",
       " 'atleast_3d',\n",
       " 'average',\n",
       " 'bartlett',\n",
       " 'base_repr',\n",
       " 'binary_repr',\n",
       " 'bincount',\n",
       " 'bitwise_and',\n",
       " 'bitwise_not',\n",
       " 'bitwise_or',\n",
       " 'bitwise_xor',\n",
       " 'blackman',\n",
       " 'block',\n",
       " 'bmat',\n",
       " 'bool',\n",
       " 'bool8',\n",
       " 'bool_',\n",
       " 'broadcast',\n",
       " 'broadcast_arrays',\n",
       " 'broadcast_to',\n",
       " 'busday_count',\n",
       " 'busday_offset',\n",
       " 'busdaycalendar',\n",
       " 'byte',\n",
       " 'byte_bounds',\n",
       " 'bytes0',\n",
       " 'bytes_',\n",
       " 'c_',\n",
       " 'can_cast',\n",
       " 'cast',\n",
       " 'cbrt',\n",
       " 'cdouble',\n",
       " 'ceil',\n",
       " 'cfloat',\n",
       " 'char',\n",
       " 'character',\n",
       " 'chararray',\n",
       " 'choose',\n",
       " 'clip',\n",
       " 'clongdouble',\n",
       " 'clongfloat',\n",
       " 'column_stack',\n",
       " 'common_type',\n",
       " 'compare_chararrays',\n",
       " 'compat',\n",
       " 'complex',\n",
       " 'complex128',\n",
       " 'complex64',\n",
       " 'complex_',\n",
       " 'complexfloating',\n",
       " 'compress',\n",
       " 'concatenate',\n",
       " 'conj',\n",
       " 'conjugate',\n",
       " 'convolve',\n",
       " 'copy',\n",
       " 'copysign',\n",
       " 'copyto',\n",
       " 'core',\n",
       " 'corrcoef',\n",
       " 'correlate',\n",
       " 'cos',\n",
       " 'cosh',\n",
       " 'count_nonzero',\n",
       " 'cov',\n",
       " 'cross',\n",
       " 'csingle',\n",
       " 'ctypeslib',\n",
       " 'cumprod',\n",
       " 'cumproduct',\n",
       " 'cumsum',\n",
       " 'datetime64',\n",
       " 'datetime_as_string',\n",
       " 'datetime_data',\n",
       " 'deg2rad',\n",
       " 'degrees',\n",
       " 'delete',\n",
       " 'deprecate',\n",
       " 'deprecate_with_doc',\n",
       " 'diag',\n",
       " 'diag_indices',\n",
       " 'diag_indices_from',\n",
       " 'diagflat',\n",
       " 'diagonal',\n",
       " 'diff',\n",
       " 'digitize',\n",
       " 'disp',\n",
       " 'divide',\n",
       " 'division',\n",
       " 'divmod',\n",
       " 'dot',\n",
       " 'double',\n",
       " 'dsplit',\n",
       " 'dstack',\n",
       " 'dtype',\n",
       " 'e',\n",
       " 'ediff1d',\n",
       " 'einsum',\n",
       " 'einsum_path',\n",
       " 'emath',\n",
       " 'empty',\n",
       " 'empty_like',\n",
       " 'equal',\n",
       " 'errstate',\n",
       " 'euler_gamma',\n",
       " 'exp',\n",
       " 'exp2',\n",
       " 'expand_dims',\n",
       " 'expm1',\n",
       " 'extract',\n",
       " 'eye',\n",
       " 'fabs',\n",
       " 'fastCopyAndTranspose',\n",
       " 'fft',\n",
       " 'fill_diagonal',\n",
       " 'find_common_type',\n",
       " 'finfo',\n",
       " 'fix',\n",
       " 'flatiter',\n",
       " 'flatnonzero',\n",
       " 'flexible',\n",
       " 'flip',\n",
       " 'fliplr',\n",
       " 'flipud',\n",
       " 'float',\n",
       " 'float16',\n",
       " 'float32',\n",
       " 'float64',\n",
       " 'float_',\n",
       " 'float_power',\n",
       " 'floating',\n",
       " 'floor',\n",
       " 'floor_divide',\n",
       " 'fmax',\n",
       " 'fmin',\n",
       " 'fmod',\n",
       " 'format_float_positional',\n",
       " 'format_float_scientific',\n",
       " 'format_parser',\n",
       " 'frexp',\n",
       " 'frombuffer',\n",
       " 'fromfile',\n",
       " 'fromfunction',\n",
       " 'fromiter',\n",
       " 'frompyfunc',\n",
       " 'fromregex',\n",
       " 'fromstring',\n",
       " 'full',\n",
       " 'full_like',\n",
       " 'fv',\n",
       " 'gcd',\n",
       " 'generic',\n",
       " 'genfromtxt',\n",
       " 'geomspace',\n",
       " 'get_array_wrap',\n",
       " 'get_include',\n",
       " 'get_printoptions',\n",
       " 'getbufsize',\n",
       " 'geterr',\n",
       " 'geterrcall',\n",
       " 'geterrobj',\n",
       " 'gradient',\n",
       " 'greater',\n",
       " 'greater_equal',\n",
       " 'half',\n",
       " 'hamming',\n",
       " 'hanning',\n",
       " 'heaviside',\n",
       " 'histogram',\n",
       " 'histogram2d',\n",
       " 'histogram_bin_edges',\n",
       " 'histogramdd',\n",
       " 'hsplit',\n",
       " 'hstack',\n",
       " 'hypot',\n",
       " 'i0',\n",
       " 'identity',\n",
       " 'iinfo',\n",
       " 'imag',\n",
       " 'in1d',\n",
       " 'index_exp',\n",
       " 'indices',\n",
       " 'inexact',\n",
       " 'inf',\n",
       " 'info',\n",
       " 'infty',\n",
       " 'inner',\n",
       " 'insert',\n",
       " 'int',\n",
       " 'int0',\n",
       " 'int16',\n",
       " 'int32',\n",
       " 'int64',\n",
       " 'int8',\n",
       " 'int_',\n",
       " 'int_asbuffer',\n",
       " 'intc',\n",
       " 'integer',\n",
       " 'interp',\n",
       " 'intersect1d',\n",
       " 'intp',\n",
       " 'invert',\n",
       " 'ipmt',\n",
       " 'irr',\n",
       " 'is_busday',\n",
       " 'isclose',\n",
       " 'iscomplex',\n",
       " 'iscomplexobj',\n",
       " 'isfinite',\n",
       " 'isfortran',\n",
       " 'isin',\n",
       " 'isinf',\n",
       " 'isnan',\n",
       " 'isnat',\n",
       " 'isneginf',\n",
       " 'isposinf',\n",
       " 'isreal',\n",
       " 'isrealobj',\n",
       " 'isscalar',\n",
       " 'issctype',\n",
       " 'issubclass_',\n",
       " 'issubdtype',\n",
       " 'issubsctype',\n",
       " 'iterable',\n",
       " 'ix_',\n",
       " 'kaiser',\n",
       " 'kron',\n",
       " 'lcm',\n",
       " 'ldexp',\n",
       " 'left_shift',\n",
       " 'less',\n",
       " 'less_equal',\n",
       " 'lexsort',\n",
       " 'lib',\n",
       " 'linalg',\n",
       " 'linspace',\n",
       " 'little_endian',\n",
       " 'load',\n",
       " 'loads',\n",
       " 'loadtxt',\n",
       " 'log',\n",
       " 'log10',\n",
       " 'log1p',\n",
       " 'log2',\n",
       " 'logaddexp',\n",
       " 'logaddexp2',\n",
       " 'logical_and',\n",
       " 'logical_not',\n",
       " 'logical_or',\n",
       " 'logical_xor',\n",
       " 'logspace',\n",
       " 'long',\n",
       " 'longcomplex',\n",
       " 'longdouble',\n",
       " 'longfloat',\n",
       " 'longlong',\n",
       " 'lookfor',\n",
       " 'ma',\n",
       " 'mafromtxt',\n",
       " 'mask_indices',\n",
       " 'mat',\n",
       " 'math',\n",
       " 'matmul',\n",
       " 'matrix',\n",
       " 'matrixlib',\n",
       " 'max',\n",
       " 'maximum',\n",
       " 'maximum_sctype',\n",
       " 'may_share_memory',\n",
       " 'mean',\n",
       " 'median',\n",
       " 'memmap',\n",
       " 'meshgrid',\n",
       " 'mgrid',\n",
       " 'min',\n",
       " 'min_scalar_type',\n",
       " 'minimum',\n",
       " 'mintypecode',\n",
       " 'mirr',\n",
       " 'mkl',\n",
       " 'mod',\n",
       " 'modf',\n",
       " 'moveaxis',\n",
       " 'msort',\n",
       " 'multiply',\n",
       " 'nan',\n",
       " 'nan_to_num',\n",
       " 'nanargmax',\n",
       " 'nanargmin',\n",
       " 'nancumprod',\n",
       " 'nancumsum',\n",
       " 'nanmax',\n",
       " 'nanmean',\n",
       " 'nanmedian',\n",
       " 'nanmin',\n",
       " 'nanpercentile',\n",
       " 'nanprod',\n",
       " 'nanquantile',\n",
       " 'nanstd',\n",
       " 'nansum',\n",
       " 'nanvar',\n",
       " 'nbytes',\n",
       " 'ndarray',\n",
       " 'ndenumerate',\n",
       " 'ndfromtxt',\n",
       " 'ndim',\n",
       " 'ndindex',\n",
       " 'nditer',\n",
       " 'negative',\n",
       " 'nested_iters',\n",
       " 'newaxis',\n",
       " 'nextafter',\n",
       " 'nonzero',\n",
       " 'not_equal',\n",
       " 'nper',\n",
       " 'npv',\n",
       " 'numarray',\n",
       " 'number',\n",
       " 'obj2sctype',\n",
       " 'object',\n",
       " 'object0',\n",
       " 'object_',\n",
       " 'ogrid',\n",
       " 'oldnumeric',\n",
       " 'ones',\n",
       " 'ones_like',\n",
       " 'outer',\n",
       " 'packbits',\n",
       " 'pad',\n",
       " 'partition',\n",
       " 'percentile',\n",
       " 'pi',\n",
       " 'piecewise',\n",
       " 'place',\n",
       " 'pmt',\n",
       " 'poly',\n",
       " 'poly1d',\n",
       " 'polyadd',\n",
       " 'polyder',\n",
       " 'polydiv',\n",
       " 'polyfit',\n",
       " 'polyint',\n",
       " 'polymul',\n",
       " 'polynomial',\n",
       " 'polysub',\n",
       " 'polyval',\n",
       " 'positive',\n",
       " 'power',\n",
       " 'ppmt',\n",
       " 'print_function',\n",
       " 'printoptions',\n",
       " 'prod',\n",
       " 'product',\n",
       " 'promote_types',\n",
       " 'ptp',\n",
       " 'put',\n",
       " 'put_along_axis',\n",
       " 'putmask',\n",
       " 'pv',\n",
       " 'quantile',\n",
       " 'r_',\n",
       " 'rad2deg',\n",
       " 'radians',\n",
       " 'random',\n",
       " 'rate',\n",
       " 'ravel',\n",
       " 'ravel_multi_index',\n",
       " 'real',\n",
       " 'real_if_close',\n",
       " 'rec',\n",
       " 'recarray',\n",
       " 'recfromcsv',\n",
       " 'recfromtxt',\n",
       " 'reciprocal',\n",
       " 'record',\n",
       " 'remainder',\n",
       " 'repeat',\n",
       " 'require',\n",
       " 'reshape',\n",
       " 'resize',\n",
       " 'result_type',\n",
       " 'right_shift',\n",
       " 'rint',\n",
       " 'roll',\n",
       " 'rollaxis',\n",
       " 'roots',\n",
       " 'rot90',\n",
       " 'round',\n",
       " 'round_',\n",
       " 'row_stack',\n",
       " 's_',\n",
       " 'safe_eval',\n",
       " 'save',\n",
       " 'savetxt',\n",
       " 'savez',\n",
       " 'savez_compressed',\n",
       " 'sctype2char',\n",
       " 'sctypeDict',\n",
       " 'sctypeNA',\n",
       " 'sctypes',\n",
       " 'searchsorted',\n",
       " 'select',\n",
       " 'set_numeric_ops',\n",
       " 'set_printoptions',\n",
       " 'set_string_function',\n",
       " 'setbufsize',\n",
       " 'setdiff1d',\n",
       " 'seterr',\n",
       " 'seterrcall',\n",
       " 'seterrobj',\n",
       " 'setxor1d',\n",
       " 'shape',\n",
       " 'shares_memory',\n",
       " 'short',\n",
       " 'show_config',\n",
       " 'sign',\n",
       " 'signbit',\n",
       " 'signedinteger',\n",
       " 'sin',\n",
       " 'sinc',\n",
       " 'single',\n",
       " 'singlecomplex',\n",
       " 'sinh',\n",
       " 'size',\n",
       " 'sometrue',\n",
       " 'sort',\n",
       " 'sort_complex',\n",
       " 'source',\n",
       " 'spacing',\n",
       " 'split',\n",
       " 'sqrt',\n",
       " 'square',\n",
       " 'squeeze',\n",
       " 'stack',\n",
       " 'std',\n",
       " 'str',\n",
       " 'str0',\n",
       " 'str_',\n",
       " 'string_',\n",
       " 'subtract',\n",
       " 'sum',\n",
       " 'swapaxes',\n",
       " 'sys',\n",
       " 'take',\n",
       " 'take_along_axis',\n",
       " 'tan',\n",
       " 'tanh',\n",
       " 'tensordot',\n",
       " 'test',\n",
       " 'testing',\n",
       " 'testing',\n",
       " 'tile',\n",
       " 'timedelta64',\n",
       " 'trace',\n",
       " 'tracemalloc_domain',\n",
       " 'transpose',\n",
       " 'trapz',\n",
       " 'tri',\n",
       " 'tril',\n",
       " 'tril_indices',\n",
       " 'tril_indices_from',\n",
       " 'trim_zeros',\n",
       " 'triu',\n",
       " 'triu_indices',\n",
       " 'triu_indices_from',\n",
       " 'true_divide',\n",
       " 'trunc',\n",
       " 'typeDict',\n",
       " 'typeNA',\n",
       " 'typecodes',\n",
       " 'typename',\n",
       " 'ubyte',\n",
       " 'ufunc',\n",
       " 'uint',\n",
       " 'uint0',\n",
       " 'uint16',\n",
       " 'uint32',\n",
       " 'uint64',\n",
       " 'uint8',\n",
       " 'uintc',\n",
       " 'uintp',\n",
       " 'ulonglong',\n",
       " 'unicode',\n",
       " 'unicode_',\n",
       " 'union1d',\n",
       " 'unique',\n",
       " 'unpackbits',\n",
       " 'unravel_index',\n",
       " 'unsignedinteger',\n",
       " 'unwrap',\n",
       " 'ushort',\n",
       " 'vander',\n",
       " 'var',\n",
       " 'vdot',\n",
       " 'vectorize',\n",
       " 'version',\n",
       " 'void',\n",
       " 'void0',\n",
       " 'vsplit',\n",
       " 'vstack',\n",
       " 'warnings',\n",
       " 'where',\n",
       " 'who',\n",
       " 'zeros',\n",
       " 'zeros_like']"
      ]
     },
     "execution_count": 245,
     "metadata": {},
     "output_type": "execute_result"
    }
   ],
   "source": [
    "dir(np)"
   ]
  },
  {
   "cell_type": "code",
   "execution_count": 246,
   "metadata": {
    "collapsed": true
   },
   "outputs": [
    {
     "name": "stdout",
     "output_type": "stream",
     "text": [
      "Help on ufunc object:\n",
      "\n",
      "true_divide = class ufunc(builtins.object)\n",
      " |  Functions that operate element by element on whole arrays.\n",
      " |  \n",
      " |  To see the documentation for a specific ufunc, use `info`.  For\n",
      " |  example, ``np.info(np.sin)``.  Because ufuncs are written in C\n",
      " |  (for speed) and linked into Python with NumPy's ufunc facility,\n",
      " |  Python's help() function finds this page whenever help() is called\n",
      " |  on a ufunc.\n",
      " |  \n",
      " |  A detailed explanation of ufuncs can be found in the docs for :ref:`ufuncs`.\n",
      " |  \n",
      " |  Calling ufuncs:\n",
      " |  ===============\n",
      " |  \n",
      " |  op(*x[, out], where=True, **kwargs)\n",
      " |  Apply `op` to the arguments `*x` elementwise, broadcasting the arguments.\n",
      " |  \n",
      " |  The broadcasting rules are:\n",
      " |  \n",
      " |  * Dimensions of length 1 may be prepended to either array.\n",
      " |  * Arrays may be repeated along dimensions of length 1.\n",
      " |  \n",
      " |  Parameters\n",
      " |  ----------\n",
      " |  *x : array_like\n",
      " |      Input arrays.\n",
      " |  out : ndarray, None, or tuple of ndarray and None, optional\n",
      " |      Alternate array object(s) in which to put the result; if provided, it\n",
      " |      must have a shape that the inputs broadcast to. A tuple of arrays\n",
      " |      (possible only as a keyword argument) must have length equal to the\n",
      " |      number of outputs; use None for uninitialized outputs to be\n",
      " |      allocated by the ufunc.\n",
      " |  where : array_like, optional\n",
      " |      This condition is broadcast over the input. At locations where the\n",
      " |      condition is True, the `out` array will be set to the ufunc result.\n",
      " |      Elsewhere, the `out` array will retain its original value.\n",
      " |      Note that if an uninitialized `out` array is created via the default\n",
      " |      ``out=None``, locations within it where the condition is False will\n",
      " |      remain uninitialized.\n",
      " |  **kwargs\n",
      " |      For other keyword-only arguments, see the :ref:`ufunc docs <ufuncs.kwargs>`.\n",
      " |  \n",
      " |  Returns\n",
      " |  -------\n",
      " |  r : ndarray or tuple of ndarray\n",
      " |      `r` will have the shape that the arrays in `x` broadcast to; if `out` is\n",
      " |      provided, it will be returned. If not, `r` will be allocated and\n",
      " |      may contain uninitialized values. If the function has more than one\n",
      " |      output, then the result will be a tuple of arrays.\n",
      " |  \n",
      " |  Methods defined here:\n",
      " |  \n",
      " |  __call__(self, /, *args, **kwargs)\n",
      " |      Call self as a function.\n",
      " |  \n",
      " |  __repr__(self, /)\n",
      " |      Return repr(self).\n",
      " |  \n",
      " |  __str__(self, /)\n",
      " |      Return str(self).\n",
      " |  \n",
      " |  accumulate(...)\n",
      " |      accumulate(array, axis=0, dtype=None, out=None)\n",
      " |      \n",
      " |      Accumulate the result of applying the operator to all elements.\n",
      " |      \n",
      " |      For a one-dimensional array, accumulate produces results equivalent to::\n",
      " |      \n",
      " |        r = np.empty(len(A))\n",
      " |        t = op.identity        # op = the ufunc being applied to A's  elements\n",
      " |        for i in range(len(A)):\n",
      " |            t = op(t, A[i])\n",
      " |            r[i] = t\n",
      " |        return r\n",
      " |      \n",
      " |      For example, add.accumulate() is equivalent to np.cumsum().\n",
      " |      \n",
      " |      For a multi-dimensional array, accumulate is applied along only one\n",
      " |      axis (axis zero by default; see Examples below) so repeated use is\n",
      " |      necessary if one wants to accumulate over multiple axes.\n",
      " |      \n",
      " |      Parameters\n",
      " |      ----------\n",
      " |      array : array_like\n",
      " |          The array to act on.\n",
      " |      axis : int, optional\n",
      " |          The axis along which to apply the accumulation; default is zero.\n",
      " |      dtype : data-type code, optional\n",
      " |          The data-type used to represent the intermediate results. Defaults\n",
      " |          to the data-type of the output array if such is provided, or the\n",
      " |          the data-type of the input array if no output array is provided.\n",
      " |      out : ndarray, None, or tuple of ndarray and None, optional\n",
      " |          A location into which the result is stored. If not provided or None,\n",
      " |          a freshly-allocated array is returned. For consistency with\n",
      " |          ``ufunc.__call__``, if given as a keyword, this may be wrapped in a\n",
      " |          1-element tuple.\n",
      " |      \n",
      " |          .. versionchanged:: 1.13.0\n",
      " |             Tuples are allowed for keyword argument.\n",
      " |      \n",
      " |      Returns\n",
      " |      -------\n",
      " |      r : ndarray\n",
      " |          The accumulated values. If `out` was supplied, `r` is a reference to\n",
      " |          `out`.\n",
      " |      \n",
      " |      Examples\n",
      " |      --------\n",
      " |      1-D array examples:\n",
      " |      \n",
      " |      >>> np.add.accumulate([2, 3, 5])\n",
      " |      array([ 2,  5, 10])\n",
      " |      >>> np.multiply.accumulate([2, 3, 5])\n",
      " |      array([ 2,  6, 30])\n",
      " |      \n",
      " |      2-D array examples:\n",
      " |      \n",
      " |      >>> I = np.eye(2)\n",
      " |      >>> I\n",
      " |      array([[1.,  0.],\n",
      " |             [0.,  1.]])\n",
      " |      \n",
      " |      Accumulate along axis 0 (rows), down columns:\n",
      " |      \n",
      " |      >>> np.add.accumulate(I, 0)\n",
      " |      array([[1.,  0.],\n",
      " |             [1.,  1.]])\n",
      " |      >>> np.add.accumulate(I) # no axis specified = axis zero\n",
      " |      array([[1.,  0.],\n",
      " |             [1.,  1.]])\n",
      " |      \n",
      " |      Accumulate along axis 1 (columns), through rows:\n",
      " |      \n",
      " |      >>> np.add.accumulate(I, 1)\n",
      " |      array([[1.,  1.],\n",
      " |             [0.,  1.]])\n",
      " |  \n",
      " |  at(...)\n",
      " |      at(a, indices, b=None)\n",
      " |      \n",
      " |      Performs unbuffered in place operation on operand 'a' for elements\n",
      " |      specified by 'indices'. For addition ufunc, this method is equivalent to\n",
      " |      ``a[indices] += b``, except that results are accumulated for elements that\n",
      " |      are indexed more than once. For example, ``a[[0,0]] += 1`` will only\n",
      " |      increment the first element once because of buffering, whereas\n",
      " |      ``add.at(a, [0,0], 1)`` will increment the first element twice.\n",
      " |      \n",
      " |      .. versionadded:: 1.8.0\n",
      " |      \n",
      " |      Parameters\n",
      " |      ----------\n",
      " |      a : array_like\n",
      " |          The array to perform in place operation on.\n",
      " |      indices : array_like or tuple\n",
      " |          Array like index object or slice object for indexing into first\n",
      " |          operand. If first operand has multiple dimensions, indices can be a\n",
      " |          tuple of array like index objects or slice objects.\n",
      " |      b : array_like\n",
      " |          Second operand for ufuncs requiring two operands. Operand must be\n",
      " |          broadcastable over first operand after indexing or slicing.\n",
      " |      \n",
      " |      Examples\n",
      " |      --------\n",
      " |      Set items 0 and 1 to their negative values:\n",
      " |      \n",
      " |      >>> a = np.array([1, 2, 3, 4])\n",
      " |      >>> np.negative.at(a, [0, 1])\n",
      " |      >>> a\n",
      " |      array([-1, -2,  3,  4])\n",
      " |      \n",
      " |      Increment items 0 and 1, and increment item 2 twice:\n",
      " |      \n",
      " |      >>> a = np.array([1, 2, 3, 4])\n",
      " |      >>> np.add.at(a, [0, 1, 2, 2], 1)\n",
      " |      >>> a\n",
      " |      array([2, 3, 5, 4])\n",
      " |      \n",
      " |      Add items 0 and 1 in first array to second array,\n",
      " |      and store results in first array:\n",
      " |      \n",
      " |      >>> a = np.array([1, 2, 3, 4])\n",
      " |      >>> b = np.array([1, 2])\n",
      " |      >>> np.add.at(a, [0, 1], b)\n",
      " |      >>> a\n",
      " |      array([2, 4, 3, 4])\n",
      " |  \n",
      " |  outer(...)\n",
      " |      outer(A, B, **kwargs)\n",
      " |      \n",
      " |      Apply the ufunc `op` to all pairs (a, b) with a in `A` and b in `B`.\n",
      " |      \n",
      " |      Let ``M = A.ndim``, ``N = B.ndim``. Then the result, `C`, of\n",
      " |      ``op.outer(A, B)`` is an array of dimension M + N such that:\n",
      " |      \n",
      " |      .. math:: C[i_0, ..., i_{M-1}, j_0, ..., j_{N-1}] =\n",
      " |         op(A[i_0, ..., i_{M-1}], B[j_0, ..., j_{N-1}])\n",
      " |      \n",
      " |      For `A` and `B` one-dimensional, this is equivalent to::\n",
      " |      \n",
      " |        r = empty(len(A),len(B))\n",
      " |        for i in range(len(A)):\n",
      " |            for j in range(len(B)):\n",
      " |                r[i,j] = op(A[i], B[j]) # op = ufunc in question\n",
      " |      \n",
      " |      Parameters\n",
      " |      ----------\n",
      " |      A : array_like\n",
      " |          First array\n",
      " |      B : array_like\n",
      " |          Second array\n",
      " |      kwargs : any\n",
      " |          Arguments to pass on to the ufunc. Typically `dtype` or `out`.\n",
      " |      \n",
      " |      Returns\n",
      " |      -------\n",
      " |      r : ndarray\n",
      " |          Output array\n",
      " |      \n",
      " |      See Also\n",
      " |      --------\n",
      " |      numpy.outer\n",
      " |      \n",
      " |      Examples\n",
      " |      --------\n",
      " |      >>> np.multiply.outer([1, 2, 3], [4, 5, 6])\n",
      " |      array([[ 4,  5,  6],\n",
      " |             [ 8, 10, 12],\n",
      " |             [12, 15, 18]])\n",
      " |      \n",
      " |      A multi-dimensional example:\n",
      " |      \n",
      " |      >>> A = np.array([[1, 2, 3], [4, 5, 6]])\n",
      " |      >>> A.shape\n",
      " |      (2, 3)\n",
      " |      >>> B = np.array([[1, 2, 3, 4]])\n",
      " |      >>> B.shape\n",
      " |      (1, 4)\n",
      " |      >>> C = np.multiply.outer(A, B)\n",
      " |      >>> C.shape; C\n",
      " |      (2, 3, 1, 4)\n",
      " |      array([[[[ 1,  2,  3,  4]],\n",
      " |              [[ 2,  4,  6,  8]],\n",
      " |              [[ 3,  6,  9, 12]]],\n",
      " |             [[[ 4,  8, 12, 16]],\n",
      " |              [[ 5, 10, 15, 20]],\n",
      " |              [[ 6, 12, 18, 24]]]])\n",
      " |  \n",
      " |  reduce(...)\n",
      " |      reduce(a, axis=0, dtype=None, out=None, keepdims=False, initial=<no value>, where=True)\n",
      " |      \n",
      " |      Reduces `a`'s dimension by one, by applying ufunc along one axis.\n",
      " |      \n",
      " |      Let :math:`a.shape = (N_0, ..., N_i, ..., N_{M-1})`.  Then\n",
      " |      :math:`ufunc.reduce(a, axis=i)[k_0, ..,k_{i-1}, k_{i+1}, .., k_{M-1}]` =\n",
      " |      the result of iterating `j` over :math:`range(N_i)`, cumulatively applying\n",
      " |      ufunc to each :math:`a[k_0, ..,k_{i-1}, j, k_{i+1}, .., k_{M-1}]`.\n",
      " |      For a one-dimensional array, reduce produces results equivalent to:\n",
      " |      ::\n",
      " |      \n",
      " |       r = op.identity # op = ufunc\n",
      " |       for i in range(len(A)):\n",
      " |         r = op(r, A[i])\n",
      " |       return r\n",
      " |      \n",
      " |      For example, add.reduce() is equivalent to sum().\n",
      " |      \n",
      " |      Parameters\n",
      " |      ----------\n",
      " |      a : array_like\n",
      " |          The array to act on.\n",
      " |      axis : None or int or tuple of ints, optional\n",
      " |          Axis or axes along which a reduction is performed.\n",
      " |          The default (`axis` = 0) is perform a reduction over the first\n",
      " |          dimension of the input array. `axis` may be negative, in\n",
      " |          which case it counts from the last to the first axis.\n",
      " |      \n",
      " |          .. versionadded:: 1.7.0\n",
      " |      \n",
      " |          If this is None, a reduction is performed over all the axes.\n",
      " |          If this is a tuple of ints, a reduction is performed on multiple\n",
      " |          axes, instead of a single axis or all the axes as before.\n",
      " |      \n",
      " |          For operations which are either not commutative or not associative,\n",
      " |          doing a reduction over multiple axes is not well-defined. The\n",
      " |          ufuncs do not currently raise an exception in this case, but will\n",
      " |          likely do so in the future.\n",
      " |      dtype : data-type code, optional\n",
      " |          The type used to represent the intermediate results. Defaults\n",
      " |          to the data-type of the output array if this is provided, or\n",
      " |          the data-type of the input array if no output array is provided.\n",
      " |      out : ndarray, None, or tuple of ndarray and None, optional\n",
      " |          A location into which the result is stored. If not provided or None,\n",
      " |          a freshly-allocated array is returned. For consistency with\n",
      " |          ``ufunc.__call__``, if given as a keyword, this may be wrapped in a\n",
      " |          1-element tuple.\n",
      " |      \n",
      " |          .. versionchanged:: 1.13.0\n",
      " |             Tuples are allowed for keyword argument.\n",
      " |      keepdims : bool, optional\n",
      " |          If this is set to True, the axes which are reduced are left\n",
      " |          in the result as dimensions with size one. With this option,\n",
      " |          the result will broadcast correctly against the original `arr`.\n",
      " |      \n",
      " |          .. versionadded:: 1.7.0\n",
      " |      initial : scalar, optional\n",
      " |          The value with which to start the reduction.\n",
      " |          If the ufunc has no identity or the dtype is object, this defaults\n",
      " |          to None - otherwise it defaults to ufunc.identity.\n",
      " |          If ``None`` is given, the first element of the reduction is used,\n",
      " |          and an error is thrown if the reduction is empty.\n",
      " |      \n",
      " |          .. versionadded:: 1.15.0\n",
      " |      \n",
      " |      where : array_like of bool, optional\n",
      " |          A boolean array which is broadcasted to match the dimensions\n",
      " |          of `a`, and selects elements to include in the reduction. Note\n",
      " |          that for ufuncs like ``minimum`` that do not have an identity\n",
      " |          defined, one has to pass in also ``initial``.\n",
      " |      \n",
      " |          .. versionadded:: 1.17.0\n",
      " |      \n",
      " |      Returns\n",
      " |      -------\n",
      " |      r : ndarray\n",
      " |          The reduced array. If `out` was supplied, `r` is a reference to it.\n",
      " |      \n",
      " |      Examples\n",
      " |      --------\n",
      " |      >>> np.multiply.reduce([2,3,5])\n",
      " |      30\n",
      " |      \n",
      " |      A multi-dimensional array example:\n",
      " |      \n",
      " |      >>> X = np.arange(8).reshape((2,2,2))\n",
      " |      >>> X\n",
      " |      array([[[0, 1],\n",
      " |              [2, 3]],\n",
      " |             [[4, 5],\n",
      " |              [6, 7]]])\n",
      " |      >>> np.add.reduce(X, 0)\n",
      " |      array([[ 4,  6],\n",
      " |             [ 8, 10]])\n",
      " |      >>> np.add.reduce(X) # confirm: default axis value is 0\n",
      " |      array([[ 4,  6],\n",
      " |             [ 8, 10]])\n",
      " |      >>> np.add.reduce(X, 1)\n",
      " |      array([[ 2,  4],\n",
      " |             [10, 12]])\n",
      " |      >>> np.add.reduce(X, 2)\n",
      " |      array([[ 1,  5],\n",
      " |             [ 9, 13]])\n",
      " |      \n",
      " |      You can use the ``initial`` keyword argument to initialize the reduction\n",
      " |      with a different value, and ``where`` to select specific elements to include:\n",
      " |      \n",
      " |      >>> np.add.reduce([10], initial=5)\n",
      " |      15\n",
      " |      >>> np.add.reduce(np.ones((2, 2, 2)), axis=(0, 2), initial=10)\n",
      " |      array([14., 14.])\n",
      " |      >>> a = np.array([10., np.nan, 10])\n",
      " |      >>> np.add.reduce(a, where=~np.isnan(a))\n",
      " |      20.0\n",
      " |      \n",
      " |      Allows reductions of empty arrays where they would normally fail, i.e.\n",
      " |      for ufuncs without an identity.\n",
      " |      \n",
      " |      >>> np.minimum.reduce([], initial=np.inf)\n",
      " |      inf\n",
      " |      >>> np.minimum.reduce([[1., 2.], [3., 4.]], initial=10., where=[True, False])\n",
      " |      array([ 1., 10.])\n",
      " |      >>> np.minimum.reduce([])\n",
      " |      Traceback (most recent call last):\n",
      " |          ...\n",
      " |      ValueError: zero-size array to reduction operation minimum which has no identity\n",
      " |  \n",
      " |  reduceat(...)\n",
      " |      reduceat(a, indices, axis=0, dtype=None, out=None)\n",
      " |      \n",
      " |      Performs a (local) reduce with specified slices over a single axis.\n",
      " |      \n",
      " |      For i in ``range(len(indices))``, `reduceat` computes\n",
      " |      ``ufunc.reduce(a[indices[i]:indices[i+1]])``, which becomes the i-th\n",
      " |      generalized \"row\" parallel to `axis` in the final result (i.e., in a\n",
      " |      2-D array, for example, if `axis = 0`, it becomes the i-th row, but if\n",
      " |      `axis = 1`, it becomes the i-th column).  There are three exceptions to this:\n",
      " |      \n",
      " |      * when ``i = len(indices) - 1`` (so for the last index),\n",
      " |        ``indices[i+1] = a.shape[axis]``.\n",
      " |      * if ``indices[i] >= indices[i + 1]``, the i-th generalized \"row\" is\n",
      " |        simply ``a[indices[i]]``.\n",
      " |      * if ``indices[i] >= len(a)`` or ``indices[i] < 0``, an error is raised.\n",
      " |      \n",
      " |      The shape of the output depends on the size of `indices`, and may be\n",
      " |      larger than `a` (this happens if ``len(indices) > a.shape[axis]``).\n",
      " |      \n",
      " |      Parameters\n",
      " |      ----------\n",
      " |      a : array_like\n",
      " |          The array to act on.\n",
      " |      indices : array_like\n",
      " |          Paired indices, comma separated (not colon), specifying slices to\n",
      " |          reduce.\n",
      " |      axis : int, optional\n",
      " |          The axis along which to apply the reduceat.\n",
      " |      dtype : data-type code, optional\n",
      " |          The type used to represent the intermediate results. Defaults\n",
      " |          to the data type of the output array if this is provided, or\n",
      " |          the data type of the input array if no output array is provided.\n",
      " |      out : ndarray, None, or tuple of ndarray and None, optional\n",
      " |          A location into which the result is stored. If not provided or None,\n",
      " |          a freshly-allocated array is returned. For consistency with\n",
      " |          ``ufunc.__call__``, if given as a keyword, this may be wrapped in a\n",
      " |          1-element tuple.\n",
      " |      \n",
      " |          .. versionchanged:: 1.13.0\n",
      " |             Tuples are allowed for keyword argument.\n",
      " |      \n",
      " |      Returns\n",
      " |      -------\n",
      " |      r : ndarray\n",
      " |          The reduced values. If `out` was supplied, `r` is a reference to\n",
      " |          `out`.\n",
      " |      \n",
      " |      Notes\n",
      " |      -----\n",
      " |      A descriptive example:\n",
      " |      \n",
      " |      If `a` is 1-D, the function `ufunc.accumulate(a)` is the same as\n",
      " |      ``ufunc.reduceat(a, indices)[::2]`` where `indices` is\n",
      " |      ``range(len(array) - 1)`` with a zero placed\n",
      " |      in every other element:\n",
      " |      ``indices = zeros(2 * len(a) - 1)``, ``indices[1::2] = range(1, len(a))``.\n",
      " |      \n",
      " |      Don't be fooled by this attribute's name: `reduceat(a)` is not\n",
      " |      necessarily smaller than `a`.\n",
      " |      \n",
      " |      Examples\n",
      " |      --------\n",
      " |      To take the running sum of four successive values:\n",
      " |      \n",
      " |      >>> np.add.reduceat(np.arange(8),[0,4, 1,5, 2,6, 3,7])[::2]\n",
      " |      array([ 6, 10, 14, 18])\n",
      " |      \n",
      " |      A 2-D example:\n",
      " |      \n",
      " |      >>> x = np.linspace(0, 15, 16).reshape(4,4)\n",
      " |      >>> x\n",
      " |      array([[ 0.,   1.,   2.,   3.],\n",
      " |             [ 4.,   5.,   6.,   7.],\n",
      " |             [ 8.,   9.,  10.,  11.],\n",
      " |             [12.,  13.,  14.,  15.]])\n",
      " |      \n",
      " |      ::\n",
      " |      \n",
      " |       # reduce such that the result has the following five rows:\n",
      " |       # [row1 + row2 + row3]\n",
      " |       # [row4]\n",
      " |       # [row2]\n",
      " |       # [row3]\n",
      " |       # [row1 + row2 + row3 + row4]\n",
      " |      \n",
      " |      >>> np.add.reduceat(x, [0, 3, 1, 2, 0])\n",
      " |      array([[12.,  15.,  18.,  21.],\n",
      " |             [12.,  13.,  14.,  15.],\n",
      " |             [ 4.,   5.,   6.,   7.],\n",
      " |             [ 8.,   9.,  10.,  11.],\n",
      " |             [24.,  28.,  32.,  36.]])\n",
      " |      \n",
      " |      ::\n",
      " |      \n",
      " |       # reduce such that result has the following two columns:\n",
      " |       # [col1 * col2 * col3, col4]\n",
      " |      \n",
      " |      >>> np.multiply.reduceat(x, [0, 3], 1)\n",
      " |      array([[   0.,     3.],\n",
      " |             [ 120.,     7.],\n",
      " |             [ 720.,    11.],\n",
      " |             [2184.,    15.]])\n",
      " |  \n",
      " |  ----------------------------------------------------------------------\n",
      " |  Data descriptors defined here:\n",
      " |  \n",
      " |  identity\n",
      " |      The identity value.\n",
      " |      \n",
      " |      Data attribute containing the identity element for the ufunc, if it has one.\n",
      " |      If it does not, the attribute value is None.\n",
      " |      \n",
      " |      Examples\n",
      " |      --------\n",
      " |      >>> np.add.identity\n",
      " |      0\n",
      " |      >>> np.multiply.identity\n",
      " |      1\n",
      " |      >>> np.power.identity\n",
      " |      1\n",
      " |      >>> print(np.exp.identity)\n",
      " |      None\n",
      " |  \n",
      " |  nargs\n",
      " |      The number of arguments.\n",
      " |      \n",
      " |      Data attribute containing the number of arguments the ufunc takes, including\n",
      " |      optional ones.\n",
      " |      \n",
      " |      Notes\n",
      " |      -----\n",
      " |      Typically this value will be one more than what you might expect because all\n",
      " |      ufuncs take  the optional \"out\" argument.\n",
      " |      \n",
      " |      Examples\n",
      " |      --------\n",
      " |      >>> np.add.nargs\n",
      " |      3\n",
      " |      >>> np.multiply.nargs\n",
      " |      3\n",
      " |      >>> np.power.nargs\n",
      " |      3\n",
      " |      >>> np.exp.nargs\n",
      " |      2\n",
      " |  \n",
      " |  nin\n",
      " |      The number of inputs.\n",
      " |      \n",
      " |      Data attribute containing the number of arguments the ufunc treats as input.\n",
      " |      \n",
      " |      Examples\n",
      " |      --------\n",
      " |      >>> np.add.nin\n",
      " |      2\n",
      " |      >>> np.multiply.nin\n",
      " |      2\n",
      " |      >>> np.power.nin\n",
      " |      2\n",
      " |      >>> np.exp.nin\n",
      " |      1\n",
      " |  \n",
      " |  nout\n",
      " |      The number of outputs.\n",
      " |      \n",
      " |      Data attribute containing the number of arguments the ufunc treats as output.\n",
      " |      \n",
      " |      Notes\n",
      " |      -----\n",
      " |      Since all ufuncs can take output arguments, this will always be (at least) 1.\n",
      " |      \n",
      " |      Examples\n",
      " |      --------\n",
      " |      >>> np.add.nout\n",
      " |      1\n",
      " |      >>> np.multiply.nout\n",
      " |      1\n",
      " |      >>> np.power.nout\n",
      " |      1\n",
      " |      >>> np.exp.nout\n",
      " |      1\n",
      " |  \n",
      " |  ntypes\n",
      " |      The number of types.\n",
      " |      \n",
      " |      The number of numerical NumPy types - of which there are 18 total - on which\n",
      " |      the ufunc can operate.\n",
      " |      \n",
      " |      See Also\n",
      " |      --------\n",
      " |      numpy.ufunc.types\n",
      " |      \n",
      " |      Examples\n",
      " |      --------\n",
      " |      >>> np.add.ntypes\n",
      " |      18\n",
      " |      >>> np.multiply.ntypes\n",
      " |      18\n",
      " |      >>> np.power.ntypes\n",
      " |      17\n",
      " |      >>> np.exp.ntypes\n",
      " |      7\n",
      " |      >>> np.remainder.ntypes\n",
      " |      14\n",
      " |  \n",
      " |  signature\n",
      " |      Definition of the core elements a generalized ufunc operates on.\n",
      " |      \n",
      " |      The signature determines how the dimensions of each input/output array\n",
      " |      are split into core and loop dimensions:\n",
      " |      \n",
      " |      1. Each dimension in the signature is matched to a dimension of the\n",
      " |         corresponding passed-in array, starting from the end of the shape tuple.\n",
      " |      2. Core dimensions assigned to the same label in the signature must have\n",
      " |         exactly matching sizes, no broadcasting is performed.\n",
      " |      3. The core dimensions are removed from all inputs and the remaining\n",
      " |         dimensions are broadcast together, defining the loop dimensions.\n",
      " |      \n",
      " |      Notes\n",
      " |      -----\n",
      " |      Generalized ufuncs are used internally in many linalg functions, and in\n",
      " |      the testing suite; the examples below are taken from these.\n",
      " |      For ufuncs that operate on scalars, the signature is None, which is\n",
      " |      equivalent to '()' for every argument.\n",
      " |      \n",
      " |      Examples\n",
      " |      --------\n",
      " |      >>> np.core.umath_tests.matrix_multiply.signature\n",
      " |      '(m,n),(n,p)->(m,p)'\n",
      " |      >>> np.linalg._umath_linalg.det.signature\n",
      " |      '(m,m)->()'\n",
      " |      >>> np.add.signature is None\n",
      " |      True  # equivalent to '(),()->()'\n",
      " |  \n",
      " |  types\n",
      " |      Returns a list with types grouped input->output.\n",
      " |      \n",
      " |      Data attribute listing the data-type \"Domain-Range\" groupings the ufunc can\n",
      " |      deliver. The data-types are given using the character codes.\n",
      " |      \n",
      " |      See Also\n",
      " |      --------\n",
      " |      numpy.ufunc.ntypes\n",
      " |      \n",
      " |      Examples\n",
      " |      --------\n",
      " |      >>> np.add.types\n",
      " |      ['??->?', 'bb->b', 'BB->B', 'hh->h', 'HH->H', 'ii->i', 'II->I', 'll->l',\n",
      " |      'LL->L', 'qq->q', 'QQ->Q', 'ff->f', 'dd->d', 'gg->g', 'FF->F', 'DD->D',\n",
      " |      'GG->G', 'OO->O']\n",
      " |      \n",
      " |      >>> np.multiply.types\n",
      " |      ['??->?', 'bb->b', 'BB->B', 'hh->h', 'HH->H', 'ii->i', 'II->I', 'll->l',\n",
      " |      'LL->L', 'qq->q', 'QQ->Q', 'ff->f', 'dd->d', 'gg->g', 'FF->F', 'DD->D',\n",
      " |      'GG->G', 'OO->O']\n",
      " |      \n",
      " |      >>> np.power.types\n",
      " |      ['bb->b', 'BB->B', 'hh->h', 'HH->H', 'ii->i', 'II->I', 'll->l', 'LL->L',\n",
      " |      'qq->q', 'QQ->Q', 'ff->f', 'dd->d', 'gg->g', 'FF->F', 'DD->D', 'GG->G',\n",
      " |      'OO->O']\n",
      " |      \n",
      " |      >>> np.exp.types\n",
      " |      ['f->f', 'd->d', 'g->g', 'F->F', 'D->D', 'G->G', 'O->O']\n",
      " |      \n",
      " |      >>> np.remainder.types\n",
      " |      ['bb->b', 'BB->B', 'hh->h', 'HH->H', 'ii->i', 'II->I', 'll->l', 'LL->L',\n",
      " |      'qq->q', 'QQ->Q', 'ff->f', 'dd->d', 'gg->g', 'OO->O']\n",
      "\n"
     ]
    }
   ],
   "source": [
    "help(np.divide)"
   ]
  },
  {
   "cell_type": "code",
   "execution_count": 252,
   "metadata": {
    "collapsed": true
   },
   "outputs": [
    {
     "name": "stderr",
     "output_type": "stream",
     "text": [
      "<ipython-input-252-ae6fc2808761>:6: RuntimeWarning: overflow encountered in long_scalars\n",
      "  mul_list = list(map(lambda x,y : x*y, l1,l2))\n"
     ]
    },
    {
     "data": {
      "text/plain": [
       "[9216,\n",
       " 36864,\n",
       " 82944,\n",
       " 147456,\n",
       " 230400,\n",
       " 331776,\n",
       " 451584,\n",
       " 589824,\n",
       " 746496,\n",
       " 921600,\n",
       " 1115136,\n",
       " 1327104,\n",
       " 1557504,\n",
       " 1806336,\n",
       " 2073600,\n",
       " 2359296,\n",
       " 2663424,\n",
       " 2985984,\n",
       " 3326976,\n",
       " 3686400,\n",
       " 4064256,\n",
       " 4460544,\n",
       " 4875264,\n",
       " 5308416,\n",
       " 5760000,\n",
       " 6230016,\n",
       " 6718464,\n",
       " 7225344,\n",
       " 7750656,\n",
       " 8294400,\n",
       " 8856576,\n",
       " 9437184,\n",
       " 10036224,\n",
       " 10653696,\n",
       " 11289600,\n",
       " 11943936,\n",
       " 12616704,\n",
       " 13307904,\n",
       " 14017536,\n",
       " 14745600,\n",
       " 15492096,\n",
       " 16257024,\n",
       " 17040384,\n",
       " 17842176,\n",
       " 18662400,\n",
       " 19501056,\n",
       " 20358144,\n",
       " 21233664,\n",
       " 22127616,\n",
       " 23040000,\n",
       " 23970816,\n",
       " 24920064,\n",
       " 25887744,\n",
       " 26873856,\n",
       " 27878400,\n",
       " 28901376,\n",
       " 29942784,\n",
       " 31002624,\n",
       " 32080896,\n",
       " 33177600,\n",
       " 34292736,\n",
       " 35426304,\n",
       " 36578304,\n",
       " 37748736,\n",
       " 38937600,\n",
       " 40144896,\n",
       " 41370624,\n",
       " 42614784,\n",
       " 43877376,\n",
       " 45158400,\n",
       " 46457856,\n",
       " 47775744,\n",
       " 49112064,\n",
       " 50466816,\n",
       " 51840000,\n",
       " 53231616,\n",
       " 54641664,\n",
       " 56070144,\n",
       " 57517056,\n",
       " 58982400,\n",
       " 60466176,\n",
       " 61968384,\n",
       " 63489024,\n",
       " 65028096,\n",
       " 66585600,\n",
       " 68161536,\n",
       " 69755904,\n",
       " 71368704,\n",
       " 72999936,\n",
       " 74649600,\n",
       " 76317696,\n",
       " 78004224,\n",
       " 79709184,\n",
       " 81432576,\n",
       " 83174400,\n",
       " 84934656,\n",
       " 86713344,\n",
       " 88510464,\n",
       " 90326016,\n",
       " 92160000,\n",
       " 94012416,\n",
       " 95883264,\n",
       " 97772544,\n",
       " 99680256,\n",
       " 101606400,\n",
       " 103550976,\n",
       " 105513984,\n",
       " 107495424,\n",
       " 109495296,\n",
       " 111513600,\n",
       " 113550336,\n",
       " 115605504,\n",
       " 117679104,\n",
       " 119771136,\n",
       " 121881600,\n",
       " 124010496,\n",
       " 126157824,\n",
       " 128323584,\n",
       " 130507776,\n",
       " 132710400,\n",
       " 134931456,\n",
       " 137170944,\n",
       " 139428864,\n",
       " 141705216,\n",
       " 144000000,\n",
       " 146313216,\n",
       " 148644864,\n",
       " 150994944,\n",
       " 153363456,\n",
       " 155750400,\n",
       " 158155776,\n",
       " 160579584,\n",
       " 163021824,\n",
       " 165482496,\n",
       " 167961600,\n",
       " 170459136,\n",
       " 172975104,\n",
       " 175509504,\n",
       " 178062336,\n",
       " 180633600,\n",
       " 183223296,\n",
       " 185831424,\n",
       " 188457984,\n",
       " 191102976,\n",
       " 193766400,\n",
       " 196448256,\n",
       " 199148544,\n",
       " 201867264,\n",
       " 204604416,\n",
       " 207360000,\n",
       " 210134016,\n",
       " 212926464,\n",
       " 215737344,\n",
       " 218566656,\n",
       " 221414400,\n",
       " 224280576,\n",
       " 227165184,\n",
       " 230068224,\n",
       " 232989696,\n",
       " 235929600,\n",
       " 238887936,\n",
       " 241864704,\n",
       " 244859904,\n",
       " 247873536,\n",
       " 250905600,\n",
       " 253956096,\n",
       " 257025024,\n",
       " 260112384,\n",
       " 263218176,\n",
       " 266342400,\n",
       " 269485056,\n",
       " 272646144,\n",
       " 275825664,\n",
       " 279023616,\n",
       " 282240000,\n",
       " 285474816,\n",
       " 288728064,\n",
       " 291999744,\n",
       " 295289856,\n",
       " 298598400,\n",
       " 301925376,\n",
       " 305270784,\n",
       " 308634624,\n",
       " 312016896,\n",
       " 315417600,\n",
       " 318836736,\n",
       " 322274304,\n",
       " 325730304,\n",
       " 329204736,\n",
       " 332697600,\n",
       " 336208896,\n",
       " 339738624,\n",
       " 343286784,\n",
       " 346853376,\n",
       " 350438400,\n",
       " 354041856,\n",
       " 357663744,\n",
       " 361304064,\n",
       " 364962816,\n",
       " 368640000,\n",
       " 372335616,\n",
       " 376049664,\n",
       " 379782144,\n",
       " 383533056,\n",
       " 387302400,\n",
       " 391090176,\n",
       " 394896384,\n",
       " 398721024,\n",
       " 402564096,\n",
       " 406425600,\n",
       " 410305536,\n",
       " 414203904,\n",
       " 418120704,\n",
       " 422055936,\n",
       " 426009600,\n",
       " 429981696,\n",
       " 433972224,\n",
       " 437981184,\n",
       " 442008576,\n",
       " 446054400,\n",
       " 450118656,\n",
       " 454201344,\n",
       " 458302464,\n",
       " 462422016,\n",
       " 466560000,\n",
       " 470716416,\n",
       " 474891264,\n",
       " 479084544,\n",
       " 483296256,\n",
       " 487526400,\n",
       " 491774976,\n",
       " 496041984,\n",
       " 500327424,\n",
       " 504631296,\n",
       " 508953600,\n",
       " 513294336,\n",
       " 517653504,\n",
       " 522031104,\n",
       " 526427136,\n",
       " 530841600,\n",
       " 535274496,\n",
       " 539725824,\n",
       " 544195584,\n",
       " 548683776,\n",
       " 553190400,\n",
       " 557715456,\n",
       " 562258944,\n",
       " 566820864,\n",
       " 571401216,\n",
       " 576000000,\n",
       " 580617216,\n",
       " 585252864,\n",
       " 589906944,\n",
       " 594579456,\n",
       " 599270400,\n",
       " 603979776,\n",
       " 608707584,\n",
       " 613453824,\n",
       " 618218496,\n",
       " 623001600,\n",
       " 627803136,\n",
       " 632623104,\n",
       " 637461504,\n",
       " 642318336,\n",
       " 647193600,\n",
       " 652087296,\n",
       " 656999424,\n",
       " 661929984,\n",
       " 666878976,\n",
       " 671846400,\n",
       " 676832256,\n",
       " 681836544,\n",
       " 686859264,\n",
       " 691900416,\n",
       " 696960000,\n",
       " 702038016,\n",
       " 707134464,\n",
       " 712249344,\n",
       " 717382656,\n",
       " 722534400,\n",
       " 727704576,\n",
       " 732893184,\n",
       " 738100224,\n",
       " 743325696,\n",
       " 748569600,\n",
       " 753831936,\n",
       " 759112704,\n",
       " 764411904,\n",
       " 769729536,\n",
       " 775065600,\n",
       " 780420096,\n",
       " 785793024,\n",
       " 791184384,\n",
       " 796594176,\n",
       " 802022400,\n",
       " 807469056,\n",
       " 812934144,\n",
       " 818417664,\n",
       " 823919616,\n",
       " 829440000,\n",
       " 834978816,\n",
       " 840536064,\n",
       " 846111744,\n",
       " 851705856,\n",
       " 857318400,\n",
       " 862949376,\n",
       " 868598784,\n",
       " 874266624,\n",
       " 879952896,\n",
       " 885657600,\n",
       " 891380736,\n",
       " 897122304,\n",
       " 902882304,\n",
       " 908660736,\n",
       " 914457600,\n",
       " 920272896,\n",
       " 926106624,\n",
       " 931958784,\n",
       " 937829376,\n",
       " 943718400,\n",
       " 949625856,\n",
       " 955551744,\n",
       " 961496064,\n",
       " 967458816,\n",
       " 973440000,\n",
       " 979439616,\n",
       " 985457664,\n",
       " 991494144,\n",
       " 997549056,\n",
       " 1003622400,\n",
       " 1009714176,\n",
       " 1015824384,\n",
       " 1021953024,\n",
       " 1028100096,\n",
       " 1034265600,\n",
       " 1040449536,\n",
       " 1046651904,\n",
       " 1052872704,\n",
       " 1059111936,\n",
       " 1065369600,\n",
       " 1071645696,\n",
       " 1077940224,\n",
       " 1084253184,\n",
       " 1090584576,\n",
       " 1096934400,\n",
       " 1103302656,\n",
       " 1109689344,\n",
       " 1116094464,\n",
       " 1122518016,\n",
       " 1128960000,\n",
       " 1135420416,\n",
       " 1141899264,\n",
       " 1148396544,\n",
       " 1154912256,\n",
       " 1161446400,\n",
       " 1167998976,\n",
       " 1174569984,\n",
       " 1181159424,\n",
       " 1187767296,\n",
       " 1194393600,\n",
       " 1201038336,\n",
       " 1207701504,\n",
       " 1214383104,\n",
       " 1221083136,\n",
       " 1227801600,\n",
       " 1234538496,\n",
       " 1241293824,\n",
       " 1248067584,\n",
       " 1254859776,\n",
       " 1261670400,\n",
       " 1268499456,\n",
       " 1275346944,\n",
       " 1282212864,\n",
       " 1289097216,\n",
       " 1296000000,\n",
       " 1302921216,\n",
       " 1309860864,\n",
       " 1316818944,\n",
       " 1323795456,\n",
       " 1330790400,\n",
       " 1337803776,\n",
       " 1344835584,\n",
       " 1351885824,\n",
       " 1358954496,\n",
       " 1366041600,\n",
       " 1373147136,\n",
       " 1380271104,\n",
       " 1387413504,\n",
       " 1394574336,\n",
       " 1401753600,\n",
       " 1408951296,\n",
       " 1416167424,\n",
       " 1423401984,\n",
       " 1430654976,\n",
       " 1437926400,\n",
       " 1445216256,\n",
       " 1452524544,\n",
       " 1459851264,\n",
       " 1467196416,\n",
       " 1474560000,\n",
       " 1481942016,\n",
       " 1489342464,\n",
       " 1496761344,\n",
       " 1504198656,\n",
       " 1511654400,\n",
       " 1519128576,\n",
       " 1526621184,\n",
       " 1534132224,\n",
       " 1541661696,\n",
       " 1549209600,\n",
       " 1556775936,\n",
       " 1564360704,\n",
       " 1571963904,\n",
       " 1579585536,\n",
       " 1587225600,\n",
       " 1594884096,\n",
       " 1602561024,\n",
       " 1610256384,\n",
       " 1617970176,\n",
       " 1625702400,\n",
       " 1633453056,\n",
       " 1641222144,\n",
       " 1649009664,\n",
       " 1656815616,\n",
       " 1664640000,\n",
       " 1672482816,\n",
       " 1680344064,\n",
       " 1688223744,\n",
       " 1696121856,\n",
       " 1704038400,\n",
       " 1711973376,\n",
       " 1719926784,\n",
       " 1727898624,\n",
       " 1735888896,\n",
       " 1743897600,\n",
       " 1751924736,\n",
       " 1759970304,\n",
       " 1768034304,\n",
       " 1776116736,\n",
       " 1784217600,\n",
       " 1792336896,\n",
       " 1800474624,\n",
       " 1808630784,\n",
       " 1816805376,\n",
       " 1824998400,\n",
       " 1833209856,\n",
       " 1841439744,\n",
       " 1849688064,\n",
       " 1857954816,\n",
       " 1866240000,\n",
       " 1874543616,\n",
       " 1882865664,\n",
       " 1891206144,\n",
       " 1899565056,\n",
       " 1907942400,\n",
       " 1916338176,\n",
       " 1924752384,\n",
       " 1933185024,\n",
       " 1941636096,\n",
       " 1950105600,\n",
       " 1958593536,\n",
       " 1967099904,\n",
       " 1975624704,\n",
       " 1984167936,\n",
       " 1992729600,\n",
       " 2001309696,\n",
       " 2009908224,\n",
       " 2018525184,\n",
       " 2027160576,\n",
       " 2035814400,\n",
       " 2044486656,\n",
       " 2053177344,\n",
       " 2061886464,\n",
       " 2070614016,\n",
       " 2079360000,\n",
       " 2088124416,\n",
       " 2096907264,\n",
       " 2105708544,\n",
       " 2114528256,\n",
       " 2123366400,\n",
       " 2132222976,\n",
       " 2141097984,\n",
       " -2144975872,\n",
       " -2136064000,\n",
       " -2127133696,\n",
       " -2118184960,\n",
       " -2109217792,\n",
       " -2100232192,\n",
       " -2091228160,\n",
       " -2082205696,\n",
       " -2073164800,\n",
       " -2064105472,\n",
       " -2055027712,\n",
       " -2045931520,\n",
       " -2036816896,\n",
       " -2027683840,\n",
       " -2018532352,\n",
       " -2009362432,\n",
       " -2000174080,\n",
       " -1990967296,\n",
       " -1981742080,\n",
       " -1972498432,\n",
       " -1963236352,\n",
       " -1953955840,\n",
       " -1944656896,\n",
       " -1935339520,\n",
       " -1926003712,\n",
       " -1916649472,\n",
       " -1907276800,\n",
       " -1897885696,\n",
       " -1888476160,\n",
       " -1879048192,\n",
       " -1869601792,\n",
       " -1860136960,\n",
       " -1850653696,\n",
       " -1841152000,\n",
       " -1831631872,\n",
       " -1822093312,\n",
       " -1812536320,\n",
       " -1802960896,\n",
       " -1793367040,\n",
       " -1783754752,\n",
       " -1774124032,\n",
       " -1764474880,\n",
       " -1754807296,\n",
       " -1745121280,\n",
       " -1735416832,\n",
       " -1725693952,\n",
       " -1715952640,\n",
       " -1706192896,\n",
       " -1696414720,\n",
       " -1686618112,\n",
       " -1676803072,\n",
       " -1666969600,\n",
       " -1657117696,\n",
       " -1647247360,\n",
       " -1637358592,\n",
       " -1627451392,\n",
       " -1617525760,\n",
       " -1607581696,\n",
       " -1597619200,\n",
       " -1587638272,\n",
       " -1577638912,\n",
       " -1567621120,\n",
       " -1557584896,\n",
       " -1547530240,\n",
       " -1537457152,\n",
       " -1527365632,\n",
       " -1517255680,\n",
       " -1507127296,\n",
       " -1496980480,\n",
       " -1486815232,\n",
       " -1476631552,\n",
       " -1466429440,\n",
       " -1456208896,\n",
       " -1445969920,\n",
       " -1435712512,\n",
       " -1425436672,\n",
       " -1415142400,\n",
       " -1404829696,\n",
       " -1394498560,\n",
       " -1384148992,\n",
       " -1373780992,\n",
       " -1363394560,\n",
       " -1352989696,\n",
       " -1342566400,\n",
       " -1332124672,\n",
       " -1321664512,\n",
       " -1311185920,\n",
       " -1300688896,\n",
       " -1290173440,\n",
       " -1279639552,\n",
       " -1269087232,\n",
       " -1258516480,\n",
       " -1247927296,\n",
       " -1237319680,\n",
       " -1226693632,\n",
       " -1216049152,\n",
       " -1205386240,\n",
       " -1194704896,\n",
       " -1184005120,\n",
       " -1173286912,\n",
       " -1162550272,\n",
       " -1151795200,\n",
       " -1141021696,\n",
       " -1130229760,\n",
       " -1119419392,\n",
       " -1108590592,\n",
       " -1097743360,\n",
       " -1086877696,\n",
       " -1075993600,\n",
       " -1065091072,\n",
       " -1054170112,\n",
       " -1043230720,\n",
       " -1032272896,\n",
       " -1021296640,\n",
       " -1010301952,\n",
       " -999288832,\n",
       " -988257280,\n",
       " -977207296,\n",
       " -966138880,\n",
       " -955052032,\n",
       " -943946752,\n",
       " -932823040,\n",
       " -921680896,\n",
       " -910520320,\n",
       " -899341312,\n",
       " -888143872,\n",
       " -876928000,\n",
       " -865693696,\n",
       " -854440960,\n",
       " -843169792,\n",
       " -831880192,\n",
       " -820572160,\n",
       " -809245696,\n",
       " -797900800,\n",
       " -786537472,\n",
       " -775155712,\n",
       " -763755520,\n",
       " -752336896,\n",
       " -740899840,\n",
       " -729444352,\n",
       " -717970432,\n",
       " -706478080,\n",
       " -694967296,\n",
       " -683438080,\n",
       " -671890432,\n",
       " -660324352,\n",
       " -648739840,\n",
       " -637136896,\n",
       " -625515520,\n",
       " -613875712,\n",
       " -602217472,\n",
       " -590540800,\n",
       " -578845696,\n",
       " -567132160,\n",
       " -555400192,\n",
       " -543649792,\n",
       " -531880960,\n",
       " -520093696,\n",
       " -508288000,\n",
       " -496463872,\n",
       " -484621312,\n",
       " -472760320,\n",
       " -460880896,\n",
       " -448983040,\n",
       " -437066752,\n",
       " -425132032,\n",
       " -413178880,\n",
       " -401207296,\n",
       " -389217280,\n",
       " -377208832,\n",
       " -365181952,\n",
       " -353136640,\n",
       " -341072896,\n",
       " -328990720,\n",
       " -316890112,\n",
       " -304771072,\n",
       " -292633600,\n",
       " -280477696,\n",
       " -268303360,\n",
       " -256110592,\n",
       " -243899392,\n",
       " -231669760,\n",
       " -219421696,\n",
       " -207155200,\n",
       " -194870272,\n",
       " -182566912,\n",
       " -170245120,\n",
       " -157904896,\n",
       " -145546240,\n",
       " -133169152,\n",
       " -120773632,\n",
       " -108359680,\n",
       " -95927296,\n",
       " -83476480,\n",
       " -71007232,\n",
       " -58519552,\n",
       " -46013440,\n",
       " -33488896,\n",
       " -20945920,\n",
       " -8384512,\n",
       " 4195328,\n",
       " 16793600,\n",
       " 29410304,\n",
       " 42045440,\n",
       " 54699008,\n",
       " 67371008,\n",
       " 80061440,\n",
       " 92770304,\n",
       " 105497600,\n",
       " 118243328,\n",
       " 131007488,\n",
       " 143790080,\n",
       " 156591104,\n",
       " 169410560,\n",
       " 182248448,\n",
       " 195104768,\n",
       " 207979520,\n",
       " 220872704,\n",
       " 233784320,\n",
       " 246714368,\n",
       " 259662848,\n",
       " 272629760,\n",
       " 285615104,\n",
       " 298618880,\n",
       " 311641088,\n",
       " 324681728,\n",
       " 337740800,\n",
       " 350818304,\n",
       " 363914240,\n",
       " 377028608,\n",
       " 390161408,\n",
       " 403312640,\n",
       " 416482304,\n",
       " 429670400,\n",
       " 442876928,\n",
       " 456101888,\n",
       " 469345280,\n",
       " 482607104,\n",
       " 495887360,\n",
       " 509186048,\n",
       " 522503168,\n",
       " 535838720,\n",
       " 549192704,\n",
       " 562565120,\n",
       " 575955968,\n",
       " 589365248,\n",
       " 602792960,\n",
       " 616239104,\n",
       " 629703680,\n",
       " 643186688,\n",
       " 656688128,\n",
       " 670208000,\n",
       " 683746304,\n",
       " 697303040,\n",
       " 710878208,\n",
       " 724471808,\n",
       " 738083840,\n",
       " 751714304,\n",
       " 765363200,\n",
       " 779030528,\n",
       " 792716288,\n",
       " 806420480,\n",
       " 820143104,\n",
       " 833884160,\n",
       " 847643648,\n",
       " 861421568,\n",
       " 875217920,\n",
       " 889032704,\n",
       " 902865920,\n",
       " 916717568,\n",
       " 930587648,\n",
       " 944476160,\n",
       " 958383104,\n",
       " 972308480,\n",
       " 986252288,\n",
       " 1000214528,\n",
       " 1014195200,\n",
       " 1028194304,\n",
       " 1042211840,\n",
       " 1056247808,\n",
       " 1070302208,\n",
       " 1084375040,\n",
       " 1098466304,\n",
       " 1112576000,\n",
       " 1126704128,\n",
       " 1140850688,\n",
       " 1155015680,\n",
       " 1169199104,\n",
       " 1183400960,\n",
       " 1197621248,\n",
       " 1211859968,\n",
       " 1226117120,\n",
       " 1240392704,\n",
       " 1254686720,\n",
       " 1268999168,\n",
       " 1283330048,\n",
       " 1297679360,\n",
       " 1312047104,\n",
       " 1326433280,\n",
       " 1340837888,\n",
       " 1355260928,\n",
       " 1369702400,\n",
       " 1384162304,\n",
       " 1398640640,\n",
       " 1413137408,\n",
       " 1427652608,\n",
       " 1442186240,\n",
       " 1456738304,\n",
       " 1471308800,\n",
       " 1485897728,\n",
       " 1500505088,\n",
       " 1515130880,\n",
       " 1529775104,\n",
       " 1544437760,\n",
       " 1559118848,\n",
       " 1573818368,\n",
       " 1588536320,\n",
       " 1603272704,\n",
       " 1618027520,\n",
       " 1632800768,\n",
       " 1647592448,\n",
       " 1662402560,\n",
       " 1677231104,\n",
       " 1692078080,\n",
       " 1706943488,\n",
       " 1721827328,\n",
       " 1736729600,\n",
       " 1751650304,\n",
       " 1766589440,\n",
       " 1781547008,\n",
       " 1796523008,\n",
       " 1811517440,\n",
       " 1826530304,\n",
       " 1841561600,\n",
       " 1856611328,\n",
       " 1871679488,\n",
       " 1886766080,\n",
       " 1901871104,\n",
       " 1916994560,\n",
       " 1932136448,\n",
       " 1947296768,\n",
       " 1962475520,\n",
       " 1977672704,\n",
       " 1992888320,\n",
       " 2008122368,\n",
       " 2023374848,\n",
       " 2038645760,\n",
       " 2053935104,\n",
       " 2069242880,\n",
       " 2084569088,\n",
       " 2099913728,\n",
       " 2115276800,\n",
       " 2130658304,\n",
       " 2146058240,\n",
       " -2133490688,\n",
       " -2118053888,\n",
       " -2102598656,\n",
       " -2087124992,\n",
       " -2071632896,\n",
       " -2056122368,\n",
       " -2040593408,\n",
       " -2025046016,\n",
       " -2009480192,\n",
       " -1993895936,\n",
       " -1978293248,\n",
       " -1962672128,\n",
       " -1947032576,\n",
       " -1931374592,\n",
       " -1915698176,\n",
       " -1900003328,\n",
       " -1884290048,\n",
       " -1868558336,\n",
       " -1852808192,\n",
       " -1837039616,\n",
       " -1821252608,\n",
       " -1805447168,\n",
       " -1789623296,\n",
       " -1773780992,\n",
       " -1757920256,\n",
       " -1742041088,\n",
       " -1726143488,\n",
       " -1710227456,\n",
       " -1694292992,\n",
       " -1678340096,\n",
       " -1662368768,\n",
       " -1646379008,\n",
       " -1630370816,\n",
       " -1614344192,\n",
       " -1598299136,\n",
       " -1582235648,\n",
       " -1566153728,\n",
       " -1550053376,\n",
       " -1533934592,\n",
       " -1517797376,\n",
       " -1501641728,\n",
       " -1485467648,\n",
       " -1469275136,\n",
       " -1453064192,\n",
       " -1436834816,\n",
       " -1420587008,\n",
       " -1404320768,\n",
       " -1388036096,\n",
       " -1371732992,\n",
       " -1355411456,\n",
       " -1339071488,\n",
       " -1322713088,\n",
       " -1306336256,\n",
       " -1289940992,\n",
       " -1273527296,\n",
       " -1257095168,\n",
       " -1240644608,\n",
       " -1224175616,\n",
       " -1207688192,\n",
       " -1191182336,\n",
       " -1174658048,\n",
       " -1158115328,\n",
       " -1141554176,\n",
       " -1124974592,\n",
       " -1108376576,\n",
       " -1091760128,\n",
       " -1075125248,\n",
       " -1058471936,\n",
       " -1041800192,\n",
       " -1025110016,\n",
       " -1008401408,\n",
       " -991674368,\n",
       " -974928896,\n",
       " -958164992,\n",
       " -941382656,\n",
       " -924581888,\n",
       " -907762688,\n",
       " -890925056,\n",
       " -874068992,\n",
       " -857194496,\n",
       " -840301568,\n",
       " -823390208,\n",
       " -806460416,\n",
       " -789512192,\n",
       " -772545536,\n",
       " -755560448,\n",
       " -738556928,\n",
       " -721534976,\n",
       " -704494592,\n",
       " -687435776,\n",
       " -670358528,\n",
       " -653262848,\n",
       " -636148736,\n",
       " -619016192,\n",
       " -601865216,\n",
       " -584695808,\n",
       " -567507968,\n",
       " -550301696,\n",
       " -533076992,\n",
       " -515833856,\n",
       " -498572288,\n",
       " -481292288,\n",
       " -463993856,\n",
       " -446676992,\n",
       " -429341696,\n",
       " -411987968,\n",
       " -394615808,\n",
       " -377225216,\n",
       " -359816192,\n",
       " -342388736,\n",
       " -324942848,\n",
       " -307478528,\n",
       " -289995776,\n",
       " -272494592,\n",
       " -254974976,\n",
       " -237436928,\n",
       " -219880448,\n",
       " -202305536,\n",
       " -184712192,\n",
       " -167100416,\n",
       " -149470208,\n",
       " -131821568,\n",
       " -114154496,\n",
       " -96468992,\n",
       " -78765056,\n",
       " -61042688,\n",
       " -43301888,\n",
       " -25542656,\n",
       " -7764992,\n",
       " 10031104,\n",
       " 27845632,\n",
       " 45678592,\n",
       " 63529984,\n",
       " 81399808,\n",
       " 99288064,\n",
       " 117194752,\n",
       " 135119872,\n",
       " 153063424,\n",
       " 171025408,\n",
       " 189005824,\n",
       " 207004672,\n",
       " 225021952,\n",
       " 243057664,\n",
       " 261111808,\n",
       " 279184384,\n",
       " 297275392,\n",
       " 315384832,\n",
       " 333512704,\n",
       " 351659008,\n",
       " 369823744,\n",
       " 388006912,\n",
       " 406208512,\n",
       " 424428544,\n",
       " 442667008,\n",
       " 460923904,\n",
       " 479199232,\n",
       " 497492992,\n",
       " 515805184,\n",
       " 534135808,\n",
       " 552484864,\n",
       " 570852352,\n",
       " 589238272,\n",
       " 607642624,\n",
       " 626065408,\n",
       " ...]"
      ]
     },
     "execution_count": 252,
     "metadata": {},
     "output_type": "execute_result"
    }
   ],
   "source": [
    "l1 = [i**2 for i in range(1,10000)] \n",
    "l2 = [j**2 for i in range(1,10000)]\n",
    "\n",
    "# mulply both lists\n",
    "\n",
    "mul_list = list(map(lambda x,y : x*y, l1,l2))\n",
    "mul_list"
   ]
  },
  {
   "cell_type": "code",
   "execution_count": 253,
   "metadata": {},
   "outputs": [
    {
     "data": {
      "text/plain": [
       "array([       9216,       36864,       82944, ...,  1924121600,\n",
       "        2108395520, -2002279424])"
      ]
     },
     "execution_count": 253,
     "metadata": {},
     "output_type": "execute_result"
    }
   ],
   "source": [
    "n1 = np.array(l1)\n",
    "n2 = np.array(l2)\n",
    "\n",
    "n1*n2"
   ]
  },
  {
   "cell_type": "markdown",
   "metadata": {},
   "source": [
    "# Comparing Computational Time in Numpy and List"
   ]
  },
  {
   "cell_type": "code",
   "execution_count": 261,
   "metadata": {},
   "outputs": [
    {
     "name": "stdout",
     "output_type": "stream",
     "text": [
      "Using List  0.02789139747619629\n"
     ]
    },
    {
     "name": "stderr",
     "output_type": "stream",
     "text": [
      "<ipython-input-261-e2c40a50c180>:6: RuntimeWarning: overflow encountered in long_scalars\n",
      "  mul_list = list(map(lambda x,y : x*y, l1,l2))\n"
     ]
    }
   ],
   "source": [
    "import time \n",
    "l1 = [i**2 for i in range(1,10000)] \n",
    "l2 = [j**2 for i in range(1,10000)]\n",
    "\n",
    "t0 = time.time()\n",
    "mul_list = list(map(lambda x,y : x*y, l1,l2))\n",
    "mul_list\n",
    "t1 = time.time()\n",
    "print(\"Using List \", t1- t0)"
   ]
  },
  {
   "cell_type": "code",
   "execution_count": 260,
   "metadata": {},
   "outputs": [
    {
     "name": "stdout",
     "output_type": "stream",
     "text": [
      "Using Numpy  0.0009582042694091797\n"
     ]
    }
   ],
   "source": [
    "t0 = time.time()\n",
    "n1*n2\n",
    "t1 = time.time()\n",
    "print(\"Using Numpy \", t1-t0)"
   ]
  },
  {
   "cell_type": "code",
   "execution_count": null,
   "metadata": {},
   "outputs": [],
   "source": []
  }
 ],
 "metadata": {
  "kernelspec": {
   "display_name": "Python 3",
   "language": "python",
   "name": "python3"
  },
  "language_info": {
   "codemirror_mode": {
    "name": "ipython",
    "version": 3
   },
   "file_extension": ".py",
   "mimetype": "text/x-python",
   "name": "python",
   "nbconvert_exporter": "python",
   "pygments_lexer": "ipython3",
   "version": "3.8.3"
  }
 },
 "nbformat": 4,
 "nbformat_minor": 4
}
