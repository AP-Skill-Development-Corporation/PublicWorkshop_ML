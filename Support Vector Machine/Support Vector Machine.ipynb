{
 "cells": [
  {
   "cell_type": "markdown",
   "metadata": {},
   "source": [
    "### Support Vector Machine:"
   ]
  },
  {
   "cell_type": "markdown",
   "metadata": {},
   "source": [
    "* Support Vector machine is one of the classifications algorithms.\n",
    "* It can be used as regresiion algorithm as well as classification algorithm.\n",
    "* The classification is done by using vectors.\n",
    "    * The two lines which are used to form the elements in groups are called as support vectors\n",
    "    * The middle line between the two vectors is called maximum margin hyperplane.\n",
    "    * The distance between the two vectors is called as margin\n",
    "    * The maximum distance between the two vectors is called as maximum margin.\n",
    "\n"
   ]
  },
  {
   "cell_type": "markdown",
   "metadata": {},
   "source": [
    "<img src = \"data:image/png;base64,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\">"
   ]
  },
  {
   "cell_type": "code",
   "execution_count": 2,
   "metadata": {},
   "outputs": [],
   "source": [
    "### importing the libraries:\n",
    "\n",
    "import numpy as np\n",
    "import pandas as pd\n",
    "import matplotlib.pyplot as plt\n",
    "import seaborn as sns"
   ]
  },
  {
   "cell_type": "code",
   "execution_count": 3,
   "metadata": {},
   "outputs": [],
   "source": [
    "from sklearn.datasets.samples_generator import make_blobs"
   ]
  },
  {
   "cell_type": "code",
   "execution_count": 4,
   "metadata": {
    "collapsed": true
   },
   "outputs": [
    {
     "name": "stdout",
     "output_type": "stream",
     "text": [
      "Help on function make_blobs in module sklearn.datasets.samples_generator:\n",
      "\n",
      "make_blobs(n_samples=100, n_features=2, centers=None, cluster_std=1.0, center_box=(-10.0, 10.0), shuffle=True, random_state=None)\n",
      "    Generate isotropic Gaussian blobs for clustering.\n",
      "    \n",
      "    Read more in the :ref:`User Guide <sample_generators>`.\n",
      "    \n",
      "    Parameters\n",
      "    ----------\n",
      "    n_samples : int or array-like, optional (default=100)\n",
      "        If int, it is the total number of points equally divided among\n",
      "        clusters.\n",
      "        If array-like, each element of the sequence indicates\n",
      "        the number of samples per cluster.\n",
      "    \n",
      "    n_features : int, optional (default=2)\n",
      "        The number of features for each sample.\n",
      "    \n",
      "    centers : int or array of shape [n_centers, n_features], optional\n",
      "        (default=None)\n",
      "        The number of centers to generate, or the fixed center locations.\n",
      "        If n_samples is an int and centers is None, 3 centers are generated.\n",
      "        If n_samples is array-like, centers must be\n",
      "        either None or an array of length equal to the length of n_samples.\n",
      "    \n",
      "    cluster_std : float or sequence of floats, optional (default=1.0)\n",
      "        The standard deviation of the clusters.\n",
      "    \n",
      "    center_box : pair of floats (min, max), optional (default=(-10.0, 10.0))\n",
      "        The bounding box for each cluster center when centers are\n",
      "        generated at random.\n",
      "    \n",
      "    shuffle : boolean, optional (default=True)\n",
      "        Shuffle the samples.\n",
      "    \n",
      "    random_state : int, RandomState instance or None (default)\n",
      "        Determines random number generation for dataset creation. Pass an int\n",
      "        for reproducible output across multiple function calls.\n",
      "        See :term:`Glossary <random_state>`.\n",
      "    \n",
      "    Returns\n",
      "    -------\n",
      "    X : array of shape [n_samples, n_features]\n",
      "        The generated samples.\n",
      "    \n",
      "    y : array of shape [n_samples]\n",
      "        The integer labels for cluster membership of each sample.\n",
      "    \n",
      "    Examples\n",
      "    --------\n",
      "    >>> from sklearn.datasets.samples_generator import make_blobs\n",
      "    >>> X, y = make_blobs(n_samples=10, centers=3, n_features=2,\n",
      "    ...                   random_state=0)\n",
      "    >>> print(X.shape)\n",
      "    (10, 2)\n",
      "    >>> y\n",
      "    array([0, 0, 1, 0, 2, 2, 2, 1, 1, 0])\n",
      "    >>> X, y = make_blobs(n_samples=[3, 3, 4], centers=None, n_features=2,\n",
      "    ...                   random_state=0)\n",
      "    >>> print(X.shape)\n",
      "    (10, 2)\n",
      "    >>> y\n",
      "    array([0, 1, 2, 0, 2, 2, 2, 1, 1, 0])\n",
      "    \n",
      "    See also\n",
      "    --------\n",
      "    make_classification: a more intricate variant\n",
      "\n"
     ]
    }
   ],
   "source": [
    "help(make_blobs)"
   ]
  },
  {
   "cell_type": "code",
   "execution_count": 5,
   "metadata": {},
   "outputs": [],
   "source": [
    "## assigning inputs and outputs to X and y:\n",
    "\n",
    "X,y = make_blobs(n_samples = 50,centers = 2,random_state = 0,cluster_std = 0.60)\n"
   ]
  },
  {
   "cell_type": "code",
   "execution_count": 7,
   "metadata": {
    "collapsed": true
   },
   "outputs": [
    {
     "name": "stdout",
     "output_type": "stream",
     "text": [
      "[[ 1.41281595  1.5303347 ]\n",
      " [ 1.81336135  1.6311307 ]\n",
      " [ 1.43289271  4.37679234]\n",
      " [ 1.87271752  4.18069237]\n",
      " [ 2.09517785  1.0791468 ]\n",
      " [ 2.73890793  0.15676817]\n",
      " [ 3.18515794  0.08900822]\n",
      " [ 2.06156753  1.96918596]\n",
      " [ 2.03835818  1.15466278]\n",
      " [-0.04749204  5.47425256]\n",
      " [ 1.71444449  5.02521524]\n",
      " [ 0.22459286  4.77028154]\n",
      " [ 1.06923853  4.53068484]\n",
      " [ 1.53278923  0.55035386]\n",
      " [ 1.4949318   3.85848832]\n",
      " [ 1.1641107   3.79132988]\n",
      " [ 0.74387399  4.12240568]\n",
      " [ 2.29667251  0.48677761]\n",
      " [ 0.44359863  3.11530945]\n",
      " [ 0.91433877  4.55014643]\n",
      " [ 1.67467427  0.68001896]\n",
      " [ 2.26908736  1.32160756]\n",
      " [ 1.5108885   0.9288309 ]\n",
      " [ 1.65179125  0.68193176]\n",
      " [ 2.49272186  0.97505341]\n",
      " [ 2.33812285  3.43116792]\n",
      " [ 0.67047877  4.04094275]\n",
      " [-0.55552381  4.69595848]\n",
      " [ 2.16172321  0.6565951 ]\n",
      " [ 2.09680487  3.7174206 ]\n",
      " [ 2.18023251  1.48364708]\n",
      " [ 0.43899014  4.53592883]\n",
      " [ 1.24258802  4.50399192]\n",
      " [ 0.00793137  4.17614316]\n",
      " [ 1.89593761  5.18540259]\n",
      " [ 1.868336    0.93136287]\n",
      " [ 2.13141478  1.13885728]\n",
      " [ 1.06269622  5.17635143]\n",
      " [ 2.33466499 -0.02408255]\n",
      " [ 0.669787    3.59540802]\n",
      " [ 1.07714851  1.17533301]\n",
      " [ 1.54632313  4.212973  ]\n",
      " [ 1.56737975 -0.1381059 ]\n",
      " [ 1.35617762  1.43815955]\n",
      " [ 1.00372519  4.19147702]\n",
      " [ 1.29297652  1.47930168]\n",
      " [ 2.94821884  2.03519717]\n",
      " [ 0.3471383   3.45177657]\n",
      " [ 2.76253526  0.78970876]\n",
      " [ 0.76752279  4.39759671]]\n",
      "[1 1 0 0 1 1 1 1 1 0 0 0 0 1 0 0 0 1 0 0 1 1 1 1 1 0 0 0 1 0 1 0 0 0 0 1 1\n",
      " 0 1 0 1 0 1 1 0 1 1 0 1 0]\n"
     ]
    }
   ],
   "source": [
    "print(X)\n",
    "print(y)"
   ]
  },
  {
   "cell_type": "code",
   "execution_count": 11,
   "metadata": {
    "collapsed": true
   },
   "outputs": [
    {
     "data": {
      "image/png": "[encoded data removed]",
      "text/plain": [
       "<Figure size 432x288 with 1 Axes>"
      ]
     },
     "metadata": {
      "needs_background": "light"
     },
     "output_type": "display_data"
    }
   ],
   "source": [
    "plt.scatter(X[:,0],X[:,1],c = y,s = 50,cmap = 'autumn')\n",
    "plt.show()"
   ]
  },
  {
   "cell_type": "code",
   "execution_count": 14,
   "metadata": {
    "collapsed": true
   },
   "outputs": [
    {
     "data": {
      "image/png": "[encoded data removed]",
      "text/plain": [
       "<Figure size 432x288 with 1 Axes>"
      ]
     },
     "metadata": {
      "needs_background": "light"
     },
     "output_type": "display_data"
    }
   ],
   "source": [
    "xfit = np.linspace(-1,3.5)\n",
    "plt.scatter(X[:,0],X[:,1],c = y,s = 50,cmap = 'autumn')\n",
    "\n",
    "for m,b,d in [(1,0.65,0.33),(0.5,1,0.55),(-0.2,2.9,0.2)]:\n",
    "    yfit = m * xfit + b\n",
    "    plt.plot(xfit,yfit,'k')\n",
    "    plt.fill_between(xfit,yfit-d,yfit+d,color = 'b',alpha = 0.4)\n",
    "plt.xlim(-1,3.5)\n",
    "plt.show()"
   ]
  },
  {
   "cell_type": "code",
   "execution_count": 15,
   "metadata": {
    "collapsed": true
   },
   "outputs": [
    {
     "data": {
      "text/plain": [
       "SVC(C=1, cache_size=200, class_weight=None, coef0=0.0,\n",
       "  decision_function_shape='ovr', degree=3, gamma='auto_deprecated',\n",
       "  kernel='linear', max_iter=-1, probability=False, random_state=None,\n",
       "  shrinking=True, tol=0.001, verbose=False)"
      ]
     },
     "execution_count": 15,
     "metadata": {},
     "output_type": "execute_result"
    }
   ],
   "source": [
    "from sklearn.svm import SVC\n",
    "model = SVC(kernel = 'linear',C = 1)\n",
    "model.fit(X,y)"
   ]
  },
  {
   "cell_type": "code",
   "execution_count": 16,
   "metadata": {
    "collapsed": true
   },
   "outputs": [
    {
     "data": {
      "text/plain": [
       "array([1, 1, 0, 0, 1, 1, 1, 1, 1, 0, 0, 0, 0, 1, 0, 0, 0, 1, 0, 0, 1, 1,\n",
       "       1, 1, 1, 0, 0, 0, 1, 0, 1, 0, 0, 0, 0, 1, 1, 0, 1, 0, 1, 0, 1, 1,\n",
       "       0, 1, 1, 0, 1, 0])"
      ]
     },
     "execution_count": 16,
     "metadata": {},
     "output_type": "execute_result"
    }
   ],
   "source": [
    "model.predict(X)"
   ]
  },
  {
   "cell_type": "code",
   "execution_count": 17,
   "metadata": {
    "collapsed": true
   },
   "outputs": [
    {
     "data": {
      "text/plain": [
       "array([1, 1, 0, 0, 1, 1, 1, 1, 1, 0, 0, 0, 0, 1, 0, 0, 0, 1, 0, 0, 1, 1,\n",
       "       1, 1, 1, 0, 0, 0, 1, 0, 1, 0, 0, 0, 0, 1, 1, 0, 1, 0, 1, 0, 1, 1,\n",
       "       0, 1, 1, 0, 1, 0])"
      ]
     },
     "execution_count": 17,
     "metadata": {},
     "output_type": "execute_result"
    }
   ],
   "source": [
    "y"
   ]
  },
  {
   "cell_type": "code",
   "execution_count": 18,
   "metadata": {
    "collapsed": true
   },
   "outputs": [
    {
     "data": {
      "text/html": [
       "<div>\n",
       "<style scoped>\n",
       "    .dataframe tbody tr th:only-of-type {\n",
       "        vertical-align: middle;\n",
       "    }\n",
       "\n",
       "    .dataframe tbody tr th {\n",
       "        vertical-align: top;\n",
       "    }\n",
       "\n",
       "    .dataframe thead th {\n",
       "        text-align: right;\n",
       "    }\n",
       "</style>\n",
       "<table border=\"1\" class=\"dataframe\">\n",
       "  <thead>\n",
       "    <tr style=\"text-align: right;\">\n",
       "      <th></th>\n",
       "      <th>fixed acidity</th>\n",
       "      <th>volatile acidity</th>\n",
       "      <th>citric acid</th>\n",
       "      <th>residual sugar</th>\n",
       "      <th>chlorides</th>\n",
       "      <th>free sulfur dioxide</th>\n",
       "      <th>total sulfur dioxide</th>\n",
       "      <th>density</th>\n",
       "      <th>pH</th>\n",
       "      <th>sulphates</th>\n",
       "      <th>alcohol</th>\n",
       "      <th>quality</th>\n",
       "    </tr>\n",
       "  </thead>\n",
       "  <tbody>\n",
       "    <tr>\n",
       "      <th>0</th>\n",
       "      <td>7.4</td>\n",
       "      <td>0.70</td>\n",
       "      <td>0.00</td>\n",
       "      <td>1.9</td>\n",
       "      <td>0.076</td>\n",
       "      <td>11.0</td>\n",
       "      <td>34.0</td>\n",
       "      <td>0.9978</td>\n",
       "      <td>3.51</td>\n",
       "      <td>0.56</td>\n",
       "      <td>9.4</td>\n",
       "      <td>5</td>\n",
       "    </tr>\n",
       "    <tr>\n",
       "      <th>1</th>\n",
       "      <td>7.8</td>\n",
       "      <td>0.88</td>\n",
       "      <td>0.00</td>\n",
       "      <td>2.6</td>\n",
       "      <td>0.098</td>\n",
       "      <td>25.0</td>\n",
       "      <td>67.0</td>\n",
       "      <td>0.9968</td>\n",
       "      <td>3.20</td>\n",
       "      <td>0.68</td>\n",
       "      <td>9.8</td>\n",
       "      <td>5</td>\n",
       "    </tr>\n",
       "    <tr>\n",
       "      <th>2</th>\n",
       "      <td>7.8</td>\n",
       "      <td>0.76</td>\n",
       "      <td>0.04</td>\n",
       "      <td>2.3</td>\n",
       "      <td>0.092</td>\n",
       "      <td>15.0</td>\n",
       "      <td>54.0</td>\n",
       "      <td>0.9970</td>\n",
       "      <td>3.26</td>\n",
       "      <td>0.65</td>\n",
       "      <td>9.8</td>\n",
       "      <td>5</td>\n",
       "    </tr>\n",
       "    <tr>\n",
       "      <th>3</th>\n",
       "      <td>11.2</td>\n",
       "      <td>0.28</td>\n",
       "      <td>0.56</td>\n",
       "      <td>1.9</td>\n",
       "      <td>0.075</td>\n",
       "      <td>17.0</td>\n",
       "      <td>60.0</td>\n",
       "      <td>0.9980</td>\n",
       "      <td>3.16</td>\n",
       "      <td>0.58</td>\n",
       "      <td>9.8</td>\n",
       "      <td>6</td>\n",
       "    </tr>\n",
       "    <tr>\n",
       "      <th>4</th>\n",
       "      <td>7.4</td>\n",
       "      <td>0.70</td>\n",
       "      <td>0.00</td>\n",
       "      <td>1.9</td>\n",
       "      <td>0.076</td>\n",
       "      <td>11.0</td>\n",
       "      <td>34.0</td>\n",
       "      <td>0.9978</td>\n",
       "      <td>3.51</td>\n",
       "      <td>0.56</td>\n",
       "      <td>9.4</td>\n",
       "      <td>5</td>\n",
       "    </tr>\n",
       "  </tbody>\n",
       "</table>\n",
       "</div>"
      ],
      "text/plain": [
       "   fixed acidity  volatile acidity  citric acid  residual sugar  chlorides  \\\n",
       "0            7.4              0.70         0.00             1.9      0.076   \n",
       "1            7.8              0.88         0.00             2.6      0.098   \n",
       "2            7.8              0.76         0.04             2.3      0.092   \n",
       "3           11.2              0.28         0.56             1.9      0.075   \n",
       "4            7.4              0.70         0.00             1.9      0.076   \n",
       "\n",
       "   free sulfur dioxide  total sulfur dioxide  density    pH  sulphates  \\\n",
       "0                 11.0                  34.0   0.9978  3.51       0.56   \n",
       "1                 25.0                  67.0   0.9968  3.20       0.68   \n",
       "2                 15.0                  54.0   0.9970  3.26       0.65   \n",
       "3                 17.0                  60.0   0.9980  3.16       0.58   \n",
       "4                 11.0                  34.0   0.9978  3.51       0.56   \n",
       "\n",
       "   alcohol  quality  \n",
       "0      9.4        5  \n",
       "1      9.8        5  \n",
       "2      9.8        5  \n",
       "3      9.8        6  \n",
       "4      9.4        5  "
      ]
     },
     "execution_count": 18,
     "metadata": {},
     "output_type": "execute_result"
    }
   ],
   "source": [
    "d = pd.read_csv(\"https://raw.githubusercontent.com/AP-Skill-Development-Corporation/Tirumala-ML/main/Day-6/winequality.csv\"\n",
    ")\n",
    "d.head()"
   ]
  },
  {
   "cell_type": "code",
   "execution_count": 19,
   "metadata": {
    "collapsed": true
   },
   "outputs": [
    {
     "name": "stdout",
     "output_type": "stream",
     "text": [
      "<class 'pandas.core.frame.DataFrame'>\n",
      "RangeIndex: 1599 entries, 0 to 1598\n",
      "Data columns (total 12 columns):\n",
      "fixed acidity           1599 non-null float64\n",
      "volatile acidity        1599 non-null float64\n",
      "citric acid             1599 non-null float64\n",
      "residual sugar          1599 non-null float64\n",
      "chlorides               1599 non-null float64\n",
      "free sulfur dioxide     1599 non-null float64\n",
      "total sulfur dioxide    1599 non-null float64\n",
      "density                 1599 non-null float64\n",
      "pH                      1599 non-null float64\n",
      "sulphates               1599 non-null float64\n",
      "alcohol                 1599 non-null float64\n",
      "quality                 1599 non-null int64\n",
      "dtypes: float64(11), int64(1)\n",
      "memory usage: 150.0 KB\n"
     ]
    }
   ],
   "source": [
    "d.info()"
   ]
  },
  {
   "cell_type": "code",
   "execution_count": 21,
   "metadata": {
    "collapsed": true
   },
   "outputs": [
    {
     "data": {
      "text/plain": [
       "fixed acidity           0\n",
       "volatile acidity        0\n",
       "citric acid             0\n",
       "residual sugar          0\n",
       "chlorides               0\n",
       "free sulfur dioxide     0\n",
       "total sulfur dioxide    0\n",
       "density                 0\n",
       "pH                      0\n",
       "sulphates               0\n",
       "alcohol                 0\n",
       "quality                 0\n",
       "dtype: int64"
      ]
     },
     "execution_count": 21,
     "metadata": {},
     "output_type": "execute_result"
    }
   ],
   "source": [
    "d.isnull().sum()"
   ]
  },
  {
   "cell_type": "code",
   "execution_count": 22,
   "metadata": {},
   "outputs": [
    {
     "data": {
      "text/plain": [
       "Index(['fixed acidity', 'volatile acidity', 'citric acid', 'residual sugar',\n",
       "       'chlorides', 'free sulfur dioxide', 'total sulfur dioxide', 'density',\n",
       "       'pH', 'sulphates', 'alcohol', 'quality'],\n",
       "      dtype='object')"
      ]
     },
     "execution_count": 22,
     "metadata": {},
     "output_type": "execute_result"
    }
   ],
   "source": [
    "d.columns"
   ]
  },
  {
   "cell_type": "code",
   "execution_count": 24,
   "metadata": {
    "collapsed": true
   },
   "outputs": [
    {
     "data": {
      "image/png": "[encoded data removed]",
      "text/plain": [
       "<Figure size 432x288 with 1 Axes>"
      ]
     },
     "metadata": {
      "needs_background": "light"
     },
     "output_type": "display_data"
    }
   ],
   "source": [
    "## Quality vs sulphates.\n",
    "\n",
    "sns.barplot(x = 'quality',y = 'sulphates',data = d)\n",
    "plt.show()"
   ]
  },
  {
   "cell_type": "code",
   "execution_count": 26,
   "metadata": {
    "collapsed": true
   },
   "outputs": [
    {
     "data": {
      "image/png": "[encoded data removed]",
      "text/plain": [
       "<Figure size 432x288 with 1 Axes>"
      ]
     },
     "metadata": {
      "needs_background": "light"
     },
     "output_type": "display_data"
    }
   ],
   "source": [
    "## qaulity vs volatile acidity:\n",
    "\n",
    "sns.barplot(x = 'quality',y = 'volatile acidity',data = d)\n",
    "plt.show()"
   ]
  },
  {
   "cell_type": "code",
   "execution_count": 27,
   "metadata": {
    "collapsed": true
   },
   "outputs": [
    {
     "data": {
      "image/png": "[encoded data removed]",
      "text/plain": [
       "<Figure size 432x288 with 1 Axes>"
      ]
     },
     "metadata": {
      "needs_background": "light"
     },
     "output_type": "display_data"
    }
   ],
   "source": [
    "### quality vs alcohol:\n",
    "\n",
    "sns.barplot(x = 'quality',y = 'alcohol',data = d)\n",
    "plt.show()"
   ]
  },
  {
   "cell_type": "code",
   "execution_count": 28,
   "metadata": {},
   "outputs": [
    {
     "data": {
      "text/plain": [
       "5    681\n",
       "6    638\n",
       "7    199\n",
       "4     53\n",
       "8     18\n",
       "3     10\n",
       "Name: quality, dtype: int64"
      ]
     },
     "execution_count": 28,
     "metadata": {},
     "output_type": "execute_result"
    }
   ],
   "source": [
    "d['quality'].value_counts()"
   ]
  },
  {
   "cell_type": "code",
   "execution_count": 30,
   "metadata": {},
   "outputs": [],
   "source": [
    "bins = [2,6.5,8]\n",
    "group_name = ['bad','good']\n",
    "categories = pd.cut(d['quality'],bins,labels = group_name)\n",
    "d['quality'] = categories"
   ]
  },
  {
   "cell_type": "code",
   "execution_count": 31,
   "metadata": {
    "collapsed": true
   },
   "outputs": [
    {
     "data": {
      "text/plain": [
       "0        bad\n",
       "1        bad\n",
       "2        bad\n",
       "3        bad\n",
       "4        bad\n",
       "5        bad\n",
       "6        bad\n",
       "7       good\n",
       "8       good\n",
       "9        bad\n",
       "10       bad\n",
       "11       bad\n",
       "12       bad\n",
       "13       bad\n",
       "14       bad\n",
       "15       bad\n",
       "16      good\n",
       "17       bad\n",
       "18       bad\n",
       "19       bad\n",
       "20       bad\n",
       "21       bad\n",
       "22       bad\n",
       "23       bad\n",
       "24       bad\n",
       "25       bad\n",
       "26       bad\n",
       "27       bad\n",
       "28       bad\n",
       "29       bad\n",
       "        ... \n",
       "1569     bad\n",
       "1570     bad\n",
       "1571     bad\n",
       "1572     bad\n",
       "1573     bad\n",
       "1574     bad\n",
       "1575     bad\n",
       "1576     bad\n",
       "1577     bad\n",
       "1578     bad\n",
       "1579     bad\n",
       "1580     bad\n",
       "1581     bad\n",
       "1582     bad\n",
       "1583     bad\n",
       "1584    good\n",
       "1585     bad\n",
       "1586     bad\n",
       "1587     bad\n",
       "1588     bad\n",
       "1589     bad\n",
       "1590     bad\n",
       "1591     bad\n",
       "1592     bad\n",
       "1593     bad\n",
       "1594     bad\n",
       "1595     bad\n",
       "1596     bad\n",
       "1597     bad\n",
       "1598     bad\n",
       "Name: quality, Length: 1599, dtype: category\n",
       "Categories (2, object): [bad < good]"
      ]
     },
     "execution_count": 31,
     "metadata": {},
     "output_type": "execute_result"
    }
   ],
   "source": [
    "categories"
   ]
  },
  {
   "cell_type": "code",
   "execution_count": 32,
   "metadata": {
    "collapsed": true
   },
   "outputs": [
    {
     "data": {
      "text/plain": [
       "0        bad\n",
       "1        bad\n",
       "2        bad\n",
       "3        bad\n",
       "4        bad\n",
       "5        bad\n",
       "6        bad\n",
       "7       good\n",
       "8       good\n",
       "9        bad\n",
       "10       bad\n",
       "11       bad\n",
       "12       bad\n",
       "13       bad\n",
       "14       bad\n",
       "15       bad\n",
       "16      good\n",
       "17       bad\n",
       "18       bad\n",
       "19       bad\n",
       "20       bad\n",
       "21       bad\n",
       "22       bad\n",
       "23       bad\n",
       "24       bad\n",
       "25       bad\n",
       "26       bad\n",
       "27       bad\n",
       "28       bad\n",
       "29       bad\n",
       "        ... \n",
       "1569     bad\n",
       "1570     bad\n",
       "1571     bad\n",
       "1572     bad\n",
       "1573     bad\n",
       "1574     bad\n",
       "1575     bad\n",
       "1576     bad\n",
       "1577     bad\n",
       "1578     bad\n",
       "1579     bad\n",
       "1580     bad\n",
       "1581     bad\n",
       "1582     bad\n",
       "1583     bad\n",
       "1584    good\n",
       "1585     bad\n",
       "1586     bad\n",
       "1587     bad\n",
       "1588     bad\n",
       "1589     bad\n",
       "1590     bad\n",
       "1591     bad\n",
       "1592     bad\n",
       "1593     bad\n",
       "1594     bad\n",
       "1595     bad\n",
       "1596     bad\n",
       "1597     bad\n",
       "1598     bad\n",
       "Name: quality, Length: 1599, dtype: category\n",
       "Categories (2, object): [bad < good]"
      ]
     },
     "execution_count": 32,
     "metadata": {},
     "output_type": "execute_result"
    }
   ],
   "source": [
    "d['quality']"
   ]
  },
  {
   "cell_type": "code",
   "execution_count": 34,
   "metadata": {},
   "outputs": [
    {
     "data": {
      "text/plain": [
       "bad     1382\n",
       "good     217\n",
       "Name: quality, dtype: int64"
      ]
     },
     "execution_count": 34,
     "metadata": {},
     "output_type": "execute_result"
    }
   ],
   "source": [
    "d['quality'].value_counts()"
   ]
  },
  {
   "cell_type": "code",
   "execution_count": 36,
   "metadata": {
    "collapsed": true
   },
   "outputs": [
    {
     "data": {
      "image/png": "[encoded data removed]",
      "text/plain": [
       "<Figure size 432x288 with 1 Axes>"
      ]
     },
     "metadata": {
      "needs_background": "light"
     },
     "output_type": "display_data"
    }
   ],
   "source": [
    "sns.barplot(x = 'quality',y = 'alcohol',data = d)\n",
    "plt.show()"
   ]
  },
  {
   "cell_type": "code",
   "execution_count": 37,
   "metadata": {},
   "outputs": [],
   "source": [
    "X = d.drop(['quality'],axis = 1)\n",
    "y = d['quality']"
   ]
  },
  {
   "cell_type": "code",
   "execution_count": 38,
   "metadata": {},
   "outputs": [],
   "source": [
    "from sklearn.preprocessing import LabelEncoder\n",
    "le = LabelEncoder()\n",
    "y = le.fit_transform(y)\n"
   ]
  },
  {
   "cell_type": "code",
   "execution_count": 39,
   "metadata": {},
   "outputs": [
    {
     "data": {
      "text/plain": [
       "array([0, 0, 0, ..., 0, 0, 0])"
      ]
     },
     "execution_count": 39,
     "metadata": {},
     "output_type": "execute_result"
    }
   ],
   "source": [
    "y"
   ]
  },
  {
   "cell_type": "code",
   "execution_count": 40,
   "metadata": {},
   "outputs": [],
   "source": [
    "from sklearn.model_selection import train_test_split\n",
    "X_train,X_test,y_train,y_test = train_test_split(X,y,test_size = 0.20,random_state = 0)\n"
   ]
  },
  {
   "cell_type": "code",
   "execution_count": 41,
   "metadata": {},
   "outputs": [],
   "source": [
    "from sklearn.preprocessing import StandardScaler\n",
    "sc = StandardScaler()\n",
    "X_train = sc.fit_transform(X_train)\n",
    "X_test = sc.fit_transform(X_test)\n"
   ]
  },
  {
   "cell_type": "code",
   "execution_count": 42,
   "metadata": {},
   "outputs": [],
   "source": [
    "from sklearn.svm import SVC\n",
    "from sklearn.metrics import accuracy_score,confusion_matrix"
   ]
  },
  {
   "cell_type": "code",
   "execution_count": 43,
   "metadata": {},
   "outputs": [],
   "source": [
    "sv = SVC(kernel = 'rbf',random_state = 0)\n",
    "sv.fit(X_train,y_train)\n",
    "y_pred = sv.predict(X_test)"
   ]
  },
  {
   "cell_type": "code",
   "execution_count": 44,
   "metadata": {
    "collapsed": true
   },
   "outputs": [
    {
     "data": {
      "text/plain": [
       "array([0, 0, 1, 0, 0, 0, 0, 0, 0, 0, 0, 0, 0, 0, 0, 0, 1, 0, 0, 0, 0, 0,\n",
       "       0, 0, 0, 0, 0, 1, 0, 0, 0, 0, 0, 0, 0, 0, 0, 0, 0, 0, 0, 0, 0, 0,\n",
       "       0, 0, 0, 0, 0, 0, 0, 0, 0, 0, 0, 0, 0, 0, 1, 0, 0, 0, 0, 0, 0, 0,\n",
       "       0, 0, 0, 0, 0, 0, 0, 0, 0, 0, 0, 0, 0, 0, 0, 0, 0, 0, 0, 0, 0, 0,\n",
       "       0, 0, 0, 0, 0, 0, 0, 0, 0, 0, 0, 0, 1, 0, 0, 0, 0, 0, 0, 0, 0, 0,\n",
       "       0, 0, 0, 0, 0, 0, 0, 1, 0, 0, 0, 0, 0, 0, 0, 1, 0, 0, 0, 1, 0, 0,\n",
       "       0, 0, 0, 0, 0, 0, 0, 0, 0, 0, 0, 0, 0, 0, 0, 1, 0, 0, 0, 0, 0, 0,\n",
       "       0, 0, 0, 0, 0, 0, 0, 0, 0, 0, 0, 0, 0, 0, 0, 0, 0, 0, 0, 1, 0, 0,\n",
       "       0, 1, 0, 0, 0, 1, 0, 0, 0, 0, 0, 0, 0, 0, 0, 0, 0, 0, 0, 0, 0, 0,\n",
       "       0, 0, 0, 0, 0, 0, 0, 0, 0, 0, 0, 0, 0, 0, 0, 0, 0, 0, 0, 0, 0, 0,\n",
       "       0, 0, 0, 0, 0, 0, 0, 0, 0, 0, 0, 0, 0, 0, 0, 0, 0, 1, 0, 0, 0, 0,\n",
       "       0, 0, 0, 0, 0, 0, 0, 0, 0, 0, 0, 0, 0, 0, 0, 0, 0, 0, 0, 1, 0, 0,\n",
       "       0, 0, 0, 0, 0, 0, 0, 0, 0, 0, 0, 0, 0, 0, 0, 1, 0, 0, 0, 0, 0, 0,\n",
       "       0, 0, 0, 0, 0, 0, 0, 0, 0, 0, 0, 0, 0, 0, 0, 0, 0, 0, 0, 0, 0, 0,\n",
       "       0, 0, 0, 0, 0, 0, 0, 0, 0, 0, 0, 0])"
      ]
     },
     "execution_count": 44,
     "metadata": {},
     "output_type": "execute_result"
    }
   ],
   "source": [
    "y_pred"
   ]
  },
  {
   "cell_type": "code",
   "execution_count": 45,
   "metadata": {},
   "outputs": [
    {
     "data": {
      "text/plain": [
       "0.921875"
      ]
     },
     "execution_count": 45,
     "metadata": {},
     "output_type": "execute_result"
    }
   ],
   "source": [
    "accuracy_score(y_pred,y_test)"
   ]
  },
  {
   "cell_type": "code",
   "execution_count": 46,
   "metadata": {},
   "outputs": [
    {
     "data": {
      "text/plain": [
       "array([[285,  20],\n",
       "       [  5,  10]], dtype=int64)"
      ]
     },
     "execution_count": 46,
     "metadata": {},
     "output_type": "execute_result"
    }
   ],
   "source": [
    "confusion_matrix(y_pred,y_test)"
   ]
  },
  {
   "cell_type": "code",
   "execution_count": null,
   "metadata": {},
   "outputs": [],
   "source": []
  }
 ],
 "metadata": {
  "kernelspec": {
   "display_name": "Python 3",
   "language": "python",
   "name": "python3"
  },
  "language_info": {
   "codemirror_mode": {
    "name": "ipython",
    "version": 3
   },
   "file_extension": ".py",
   "mimetype": "text/x-python",
   "name": "python",
   "nbconvert_exporter": "python",
   "pygments_lexer": "ipython3",
   "version": "3.7.3"
  }
 },
 "nbformat": 4,
 "nbformat_minor": 2
}
